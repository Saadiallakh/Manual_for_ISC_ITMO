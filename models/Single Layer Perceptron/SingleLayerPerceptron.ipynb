{
 "cells": [
  {
   "cell_type": "markdown",
   "metadata": {},
   "source": [
    "# 1. Data Preprocessing and Splitting"
   ]
  },
  {
   "cell_type": "markdown",
   "metadata": {},
   "source": [
    "### 1.1 Read the \"Data.csv\" file"
   ]
  },
  {
   "cell_type": "code",
   "execution_count": 11,
   "metadata": {},
   "outputs": [
    {
     "data": {
      "text/html": [
       "<div>\n",
       "<style scoped>\n",
       "    .dataframe tbody tr th:only-of-type {\n",
       "        vertical-align: middle;\n",
       "    }\n",
       "\n",
       "    .dataframe tbody tr th {\n",
       "        vertical-align: top;\n",
       "    }\n",
       "\n",
       "    .dataframe thead th {\n",
       "        text-align: right;\n",
       "    }\n",
       "</style>\n",
       "<table border=\"1\" class=\"dataframe\">\n",
       "  <thead>\n",
       "    <tr style=\"text-align: right;\">\n",
       "      <th></th>\n",
       "      <th>name</th>\n",
       "      <th>dft_gibbs_free_energy_ev</th>\n",
       "      <th>dft_electronic_energy_ev</th>\n",
       "      <th>dft_entropy_ev</th>\n",
       "      <th>dft_enthalpy_ev</th>\n",
       "      <th>hf_gibbs_free_energy_ev</th>\n",
       "      <th>hf_electronic_energy_ev</th>\n",
       "      <th>hf_entropy_ev</th>\n",
       "      <th>hf_enthalpy_ev</th>\n",
       "    </tr>\n",
       "  </thead>\n",
       "  <tbody>\n",
       "    <tr>\n",
       "      <th>0</th>\n",
       "      <td>dimer_001338</td>\n",
       "      <td>-16917.573481</td>\n",
       "      <td>-16925.578752</td>\n",
       "      <td>1.791468</td>\n",
       "      <td>-16915.782013</td>\n",
       "      <td>-16699.004234</td>\n",
       "      <td>-16708.542262</td>\n",
       "      <td>1.732034</td>\n",
       "      <td>-16697.272200</td>\n",
       "    </tr>\n",
       "    <tr>\n",
       "      <th>1</th>\n",
       "      <td>dimer_001340</td>\n",
       "      <td>-15834.675653</td>\n",
       "      <td>-15843.326901</td>\n",
       "      <td>1.798428</td>\n",
       "      <td>-15832.877225</td>\n",
       "      <td>-15625.077800</td>\n",
       "      <td>-15635.403855</td>\n",
       "      <td>1.730149</td>\n",
       "      <td>-15623.347651</td>\n",
       "    </tr>\n",
       "    <tr>\n",
       "      <th>2</th>\n",
       "      <td>dimer_001341</td>\n",
       "      <td>-16916.895225</td>\n",
       "      <td>-16924.923731</td>\n",
       "      <td>1.759009</td>\n",
       "      <td>-16915.136217</td>\n",
       "      <td>-16698.972462</td>\n",
       "      <td>-16708.490025</td>\n",
       "      <td>1.728173</td>\n",
       "      <td>-16697.244289</td>\n",
       "    </tr>\n",
       "    <tr>\n",
       "      <th>3</th>\n",
       "      <td>dimer_001343</td>\n",
       "      <td>-14897.694694</td>\n",
       "      <td>-14905.933900</td>\n",
       "      <td>1.622494</td>\n",
       "      <td>-14896.072200</td>\n",
       "      <td>-14700.613585</td>\n",
       "      <td>-14710.492825</td>\n",
       "      <td>1.568488</td>\n",
       "      <td>-14699.045097</td>\n",
       "    </tr>\n",
       "    <tr>\n",
       "      <th>4</th>\n",
       "      <td>dimer_001346</td>\n",
       "      <td>-14897.734585</td>\n",
       "      <td>-14905.936524</td>\n",
       "      <td>1.662438</td>\n",
       "      <td>-14896.072147</td>\n",
       "      <td>-14700.649672</td>\n",
       "      <td>-14710.478436</td>\n",
       "      <td>1.617040</td>\n",
       "      <td>-14699.032632</td>\n",
       "    </tr>\n",
       "    <tr>\n",
       "      <th>...</th>\n",
       "      <td>...</td>\n",
       "      <td>...</td>\n",
       "      <td>...</td>\n",
       "      <td>...</td>\n",
       "      <td>...</td>\n",
       "      <td>...</td>\n",
       "      <td>...</td>\n",
       "      <td>...</td>\n",
       "      <td>...</td>\n",
       "    </tr>\n",
       "    <tr>\n",
       "      <th>495</th>\n",
       "      <td>dimer_006866</td>\n",
       "      <td>-21012.703301</td>\n",
       "      <td>-21021.225137</td>\n",
       "      <td>1.712411</td>\n",
       "      <td>-21010.990890</td>\n",
       "      <td>-20749.312102</td>\n",
       "      <td>-20759.341495</td>\n",
       "      <td>1.684781</td>\n",
       "      <td>-20747.627320</td>\n",
       "    </tr>\n",
       "    <tr>\n",
       "      <th>496</th>\n",
       "      <td>dimer_006867</td>\n",
       "      <td>-21012.822136</td>\n",
       "      <td>-21021.382126</td>\n",
       "      <td>1.678073</td>\n",
       "      <td>-21011.144062</td>\n",
       "      <td>-20749.476476</td>\n",
       "      <td>-20759.553687</td>\n",
       "      <td>1.651282</td>\n",
       "      <td>-20747.825194</td>\n",
       "    </tr>\n",
       "    <tr>\n",
       "      <th>497</th>\n",
       "      <td>dimer_006868</td>\n",
       "      <td>-22968.461459</td>\n",
       "      <td>-22975.705901</td>\n",
       "      <td>1.679857</td>\n",
       "      <td>-22966.781601</td>\n",
       "      <td>-22687.402193</td>\n",
       "      <td>-22695.824857</td>\n",
       "      <td>1.667343</td>\n",
       "      <td>-22685.734851</td>\n",
       "    </tr>\n",
       "    <tr>\n",
       "      <th>498</th>\n",
       "      <td>dimer_006888</td>\n",
       "      <td>-21011.089783</td>\n",
       "      <td>-21019.404453</td>\n",
       "      <td>1.841686</td>\n",
       "      <td>-21009.248097</td>\n",
       "      <td>-20745.883071</td>\n",
       "      <td>-20755.660873</td>\n",
       "      <td>1.804790</td>\n",
       "      <td>-20744.078281</td>\n",
       "    </tr>\n",
       "    <tr>\n",
       "      <th>499</th>\n",
       "      <td>dimer_006889</td>\n",
       "      <td>-22967.151760</td>\n",
       "      <td>-22974.201440</td>\n",
       "      <td>1.798617</td>\n",
       "      <td>-22965.353142</td>\n",
       "      <td>-22683.998145</td>\n",
       "      <td>-22692.247127</td>\n",
       "      <td>1.751913</td>\n",
       "      <td>-22682.246232</td>\n",
       "    </tr>\n",
       "  </tbody>\n",
       "</table>\n",
       "<p>500 rows × 9 columns</p>\n",
       "</div>"
      ],
      "text/plain": [
       "             name  dft_gibbs_free_energy_ev  dft_electronic_energy_ev  \\\n",
       "0    dimer_001338             -16917.573481             -16925.578752   \n",
       "1    dimer_001340             -15834.675653             -15843.326901   \n",
       "2    dimer_001341             -16916.895225             -16924.923731   \n",
       "3    dimer_001343             -14897.694694             -14905.933900   \n",
       "4    dimer_001346             -14897.734585             -14905.936524   \n",
       "..            ...                       ...                       ...   \n",
       "495  dimer_006866             -21012.703301             -21021.225137   \n",
       "496  dimer_006867             -21012.822136             -21021.382126   \n",
       "497  dimer_006868             -22968.461459             -22975.705901   \n",
       "498  dimer_006888             -21011.089783             -21019.404453   \n",
       "499  dimer_006889             -22967.151760             -22974.201440   \n",
       "\n",
       "     dft_entropy_ev  dft_enthalpy_ev  hf_gibbs_free_energy_ev  \\\n",
       "0          1.791468    -16915.782013            -16699.004234   \n",
       "1          1.798428    -15832.877225            -15625.077800   \n",
       "2          1.759009    -16915.136217            -16698.972462   \n",
       "3          1.622494    -14896.072200            -14700.613585   \n",
       "4          1.662438    -14896.072147            -14700.649672   \n",
       "..              ...              ...                      ...   \n",
       "495        1.712411    -21010.990890            -20749.312102   \n",
       "496        1.678073    -21011.144062            -20749.476476   \n",
       "497        1.679857    -22966.781601            -22687.402193   \n",
       "498        1.841686    -21009.248097            -20745.883071   \n",
       "499        1.798617    -22965.353142            -22683.998145   \n",
       "\n",
       "     hf_electronic_energy_ev  hf_entropy_ev  hf_enthalpy_ev  \n",
       "0              -16708.542262       1.732034   -16697.272200  \n",
       "1              -15635.403855       1.730149   -15623.347651  \n",
       "2              -16708.490025       1.728173   -16697.244289  \n",
       "3              -14710.492825       1.568488   -14699.045097  \n",
       "4              -14710.478436       1.617040   -14699.032632  \n",
       "..                       ...            ...             ...  \n",
       "495            -20759.341495       1.684781   -20747.627320  \n",
       "496            -20759.553687       1.651282   -20747.825194  \n",
       "497            -22695.824857       1.667343   -22685.734851  \n",
       "498            -20755.660873       1.804790   -20744.078281  \n",
       "499            -22692.247127       1.751913   -22682.246232  \n",
       "\n",
       "[500 rows x 9 columns]"
      ]
     },
     "execution_count": 11,
     "metadata": {},
     "output_type": "execute_result"
    }
   ],
   "source": [
    "import pandas as pd \n",
    "\n",
    "data = pd.read_csv(\"Data.csv\", delimiter=',')\n",
    "data"
   ]
  },
  {
   "cell_type": "markdown",
   "metadata": {},
   "source": [
    "### 1.2 Define predictors and target"
   ]
  },
  {
   "cell_type": "code",
   "execution_count": 12,
   "metadata": {},
   "outputs": [],
   "source": [
    "X = data[['hf_gibbs_free_energy_ev', \n",
    "          'hf_electronic_energy_ev',\n",
    "          'hf_entropy_ev', 'hf_enthalpy_ev']]\n",
    "\n",
    "y = data['dft_enthalpy_ev']"
   ]
  },
  {
   "cell_type": "markdown",
   "metadata": {},
   "source": [
    "### 1.3 Split dataset into training and testing sets (80/20 split)"
   ]
  },
  {
   "cell_type": "code",
   "execution_count": 13,
   "metadata": {},
   "outputs": [],
   "source": [
    "#!pip install scikit-learn\n",
    "from sklearn.model_selection import train_test_split\n",
    "\n",
    "X_train, X_test, y_train, y_test = train_test_split(X, y, test_size=0.2, random_state=42)"
   ]
  },
  {
   "cell_type": "markdown",
   "metadata": {},
   "source": [
    "### 1.4 Scale data and save scalers"
   ]
  },
  {
   "cell_type": "code",
   "execution_count": 14,
   "metadata": {},
   "outputs": [
    {
     "data": {
      "text/plain": [
       "['scaler_y.pkl']"
      ]
     },
     "execution_count": 14,
     "metadata": {},
     "output_type": "execute_result"
    }
   ],
   "source": [
    "from sklearn.preprocessing import StandardScaler\n",
    "import joblib\n",
    "\n",
    "scaler = StandardScaler()\n",
    "X_train_scaled = scaler.fit_transform(X_train)\n",
    "X_test_scaled = scaler.transform(X_test)\n",
    "\n",
    "joblib.dump(scaler, 'scaler.pkl')\n",
    "\n",
    "scaler_y = StandardScaler()\n",
    "y_train_scaled = scaler_y.fit_transform(y_train.values.reshape(-1, 1))\n",
    "y_test_scaled = scaler_y.transform(y_test.values.reshape(-1, 1))\n",
    "joblib.dump(scaler_y, 'scaler_y.pkl')"
   ]
  },
  {
   "cell_type": "markdown",
   "metadata": {},
   "source": [
    "# 2. Single Layer Perceptron"
   ]
  },
  {
   "cell_type": "markdown",
   "metadata": {},
   "source": [
    "### 2.1 Install libraries"
   ]
  },
  {
   "cell_type": "code",
   "execution_count": 15,
   "metadata": {},
   "outputs": [],
   "source": [
    "#-# !pip install optuna\n",
    "#-# !pip install tensorflow\n",
    "#-# !pip install keras"
   ]
  },
  {
   "cell_type": "markdown",
   "metadata": {},
   "source": [
    "### 2.2 Import libraries"
   ]
  },
  {
   "cell_type": "code",
   "execution_count": 16,
   "metadata": {},
   "outputs": [],
   "source": [
    "import optuna \n",
    "import numpy as np \n",
    "import tensorflow as tf \n",
    "\n",
    "from tensorflow.keras.callbacks import EarlyStopping\n",
    "from tensorflow.keras.regularizers import l1_l2\n",
    "from sklearn.model_selection import KFold\n",
    "from sklearn.metrics import mean_squared_error"
   ]
  },
  {
   "cell_type": "markdown",
   "metadata": {},
   "source": [
    "### 2.3 Create \"objective\" function for optimization"
   ]
  },
  {
   "cell_type": "code",
   "execution_count": 17,
   "metadata": {},
   "outputs": [],
   "source": [
    "def objective(trial):\n",
    "    \"\"\"\n",
    "    Objective function for Optuna that defines the task for hyperparameter search.\n",
    "\n",
    "    Parameters:\n",
    "    - trial (optuna.trial.Trial): Optuna trial object used to suggest hyperparameters.\n",
    "\n",
    "    Returns:\n",
    "    - float: Mean MSE value across all folds of cross-validation.\n",
    "    \"\"\"\n",
    "    #-# Define the hyperparameter grid\n",
    "    optimizer_name = trial.suggest_categorical('optimizer', ['Adam', 'SGD', 'RMSprop', 'Adagrad'])\n",
    "    activation_function = trial.suggest_categorical('activation_function', ['relu', 'sigmoid', 'tanh', 'leaky_relu'])\n",
    "    learning_rate = trial.suggest_float('learning_rate', 1e-5, 1e-2, log=True)\n",
    "    num_neurons = trial.suggest_int('num_neurons', 5, 200, log=True)\n",
    "    l1_reg = trial.suggest_float('l1_reg', 1e-8, 100, log=True)\n",
    "    l2_reg = trial.suggest_float('l2_reg', 1e-8, 100, log=True)\n",
    "\n",
    "    #-# Create model with current hyperparameters\n",
    "    model = tf.keras.Sequential([\n",
    "        tf.keras.layers.Input(shape=(X_train_scaled.shape[1],)),\n",
    "        tf.keras.layers.Dense(num_neurons, activation=activation_function, kernel_regularizer=l1_l2(l1=l1_reg, l2=l2_reg)),\n",
    "        tf.keras.layers.Dense(1)\n",
    "    ])\n",
    "\n",
    "    #-# Define optimizer based on selected option\n",
    "    optimizer = getattr(tf.keras.optimizers, optimizer_name)(learning_rate=learning_rate)\n",
    "\n",
    "    model.compile(optimizer=optimizer, loss='mean_squared_error', metrics=['mse'])\n",
    "\n",
    "    #-# Initialize KFold cross-validation\n",
    "    kf = KFold(n_splits=3, shuffle=True, random_state=42)\n",
    "    fold_mses = []\n",
    "\n",
    "    #-# Perform cross-validation\n",
    "    for train_index, val_index in kf.split(X_train_scaled):\n",
    "        X_train_cv, X_val_cv = X_train_scaled[train_index], X_train_scaled[val_index]\n",
    "        y_train_cv, y_val_cv = y_train_scaled[train_index], y_train_scaled[val_index]\n",
    "\n",
    "        #-# Apply EarlyTopping technique to prevent overfitting\n",
    "        early_stopping = EarlyStopping(monitor='val_loss', mode='min', restore_best_weights=True, patience=10, verbose=0)\n",
    "\n",
    "        #-# Train the model\n",
    "        model.fit(X_train_cv, y_train_cv, epochs=100, batch_size=32, validation_data=(X_val_cv, y_val_cv), callbacks=[early_stopping], verbose=0)\n",
    "\n",
    "        #-# Evaluate on validation set\n",
    "        y_pred_cv = model.predict(X_val_cv)\n",
    "        mse = mean_squared_error(y_val_cv, y_pred_cv)\n",
    "        fold_mses.append(mse)\n",
    "\n",
    "    return np.mean(fold_mses)"
   ]
  },
  {
   "cell_type": "markdown",
   "metadata": {},
   "source": [
    "### 2.4 Run the optimization"
   ]
  },
  {
   "cell_type": "code",
   "execution_count": 18,
   "metadata": {},
   "outputs": [
    {
     "name": "stderr",
     "output_type": "stream",
     "text": [
      "[I 2024-11-02 23:29:09,595] A new study created in memory with name: no-name-3b357043-4a05-42a8-a898-3ac151ff2b55\n"
     ]
    },
    {
     "name": "stdout",
     "output_type": "stream",
     "text": [
      "\u001b[1m5/5\u001b[0m \u001b[32m━━━━━━━━━━━━━━━━━━━━\u001b[0m\u001b[37m\u001b[0m \u001b[1m0s\u001b[0m 9ms/step \n",
      "\u001b[1m5/5\u001b[0m \u001b[32m━━━━━━━━━━━━━━━━━━━━\u001b[0m\u001b[37m\u001b[0m \u001b[1m0s\u001b[0m 2ms/step \n",
      "\u001b[1m5/5\u001b[0m \u001b[32m━━━━━━━━━━━━━━━━━━━━\u001b[0m\u001b[37m\u001b[0m \u001b[1m0s\u001b[0m 2ms/step \n"
     ]
    },
    {
     "name": "stderr",
     "output_type": "stream",
     "text": [
      "[I 2024-11-02 23:29:35,851] Trial 0 finished with value: 0.004717398814846414 and parameters: {'optimizer': 'Adam', 'activation_function': 'leaky_relu', 'learning_rate': 0.0027363811908806468, 'num_neurons': 15, 'l1_reg': 5.269438854586236e-05, 'l2_reg': 3.307101722821736}. Best is trial 0 with value: 0.004717398814846414.\n"
     ]
    },
    {
     "name": "stdout",
     "output_type": "stream",
     "text": [
      "\u001b[1m5/5\u001b[0m \u001b[32m━━━━━━━━━━━━━━━━━━━━\u001b[0m\u001b[37m\u001b[0m \u001b[1m0s\u001b[0m 10ms/step\n",
      "\u001b[1m5/5\u001b[0m \u001b[32m━━━━━━━━━━━━━━━━━━━━\u001b[0m\u001b[37m\u001b[0m \u001b[1m0s\u001b[0m 1ms/step \n",
      "\u001b[1m5/5\u001b[0m \u001b[32m━━━━━━━━━━━━━━━━━━━━\u001b[0m\u001b[37m\u001b[0m \u001b[1m0s\u001b[0m 2ms/step \n"
     ]
    },
    {
     "name": "stderr",
     "output_type": "stream",
     "text": [
      "[I 2024-11-02 23:30:01,207] Trial 1 finished with value: 0.5991268591777745 and parameters: {'optimizer': 'Adam', 'activation_function': 'relu', 'learning_rate': 0.0001295103432306983, 'num_neurons': 6, 'l1_reg': 11.21547005522746, 'l2_reg': 1.7794893717037795e-08}. Best is trial 0 with value: 0.004717398814846414.\n"
     ]
    },
    {
     "name": "stdout",
     "output_type": "stream",
     "text": [
      "\u001b[1m5/5\u001b[0m \u001b[32m━━━━━━━━━━━━━━━━━━━━\u001b[0m\u001b[37m\u001b[0m \u001b[1m0s\u001b[0m 9ms/step \n",
      "\u001b[1m5/5\u001b[0m \u001b[32m━━━━━━━━━━━━━━━━━━━━\u001b[0m\u001b[37m\u001b[0m \u001b[1m0s\u001b[0m 2ms/step \n",
      "\u001b[1m5/5\u001b[0m \u001b[32m━━━━━━━━━━━━━━━━━━━━\u001b[0m\u001b[37m\u001b[0m \u001b[1m0s\u001b[0m 2ms/step \n"
     ]
    },
    {
     "name": "stderr",
     "output_type": "stream",
     "text": [
      "[I 2024-11-02 23:30:26,924] Trial 2 finished with value: 1.0116405243455875 and parameters: {'optimizer': 'Adam', 'activation_function': 'sigmoid', 'learning_rate': 1.0345144945923895e-05, 'num_neurons': 38, 'l1_reg': 0.00011108180022231207, 'l2_reg': 1.5031208195043815e-07}. Best is trial 0 with value: 0.004717398814846414.\n"
     ]
    },
    {
     "name": "stdout",
     "output_type": "stream",
     "text": [
      "\u001b[1m5/5\u001b[0m \u001b[32m━━━━━━━━━━━━━━━━━━━━\u001b[0m\u001b[37m\u001b[0m \u001b[1m0s\u001b[0m 8ms/step \n",
      "\u001b[1m5/5\u001b[0m \u001b[32m━━━━━━━━━━━━━━━━━━━━\u001b[0m\u001b[37m\u001b[0m \u001b[1m0s\u001b[0m 2ms/step \n",
      "\u001b[1m5/5\u001b[0m \u001b[32m━━━━━━━━━━━━━━━━━━━━\u001b[0m\u001b[37m\u001b[0m \u001b[1m0s\u001b[0m 2ms/step \n"
     ]
    },
    {
     "name": "stderr",
     "output_type": "stream",
     "text": [
      "[I 2024-11-02 23:30:49,139] Trial 3 finished with value: 0.0678617732634977 and parameters: {'optimizer': 'Adagrad', 'activation_function': 'tanh', 'learning_rate': 0.006429412117796637, 'num_neurons': 9, 'l1_reg': 0.2653558288250482, 'l2_reg': 0.0009001509586022593}. Best is trial 0 with value: 0.004717398814846414.\n"
     ]
    },
    {
     "name": "stdout",
     "output_type": "stream",
     "text": [
      "\u001b[1m5/5\u001b[0m \u001b[32m━━━━━━━━━━━━━━━━━━━━\u001b[0m\u001b[37m\u001b[0m \u001b[1m0s\u001b[0m 8ms/step \n",
      "\u001b[1m5/5\u001b[0m \u001b[32m━━━━━━━━━━━━━━━━━━━━\u001b[0m\u001b[37m\u001b[0m \u001b[1m0s\u001b[0m 1ms/step \n",
      "\u001b[1m5/5\u001b[0m \u001b[32m━━━━━━━━━━━━━━━━━━━━\u001b[0m\u001b[37m\u001b[0m \u001b[1m0s\u001b[0m 1ms/step \n"
     ]
    },
    {
     "name": "stderr",
     "output_type": "stream",
     "text": [
      "[I 2024-11-02 23:31:11,275] Trial 4 finished with value: 1.9532643985158777 and parameters: {'optimizer': 'Adagrad', 'activation_function': 'leaky_relu', 'learning_rate': 2.6336877074613105e-05, 'num_neurons': 7, 'l1_reg': 0.0039438764661579705, 'l2_reg': 0.0013551690236666815}. Best is trial 0 with value: 0.004717398814846414.\n"
     ]
    },
    {
     "name": "stdout",
     "output_type": "stream",
     "text": [
      "\u001b[1m5/5\u001b[0m \u001b[32m━━━━━━━━━━━━━━━━━━━━\u001b[0m\u001b[37m\u001b[0m \u001b[1m0s\u001b[0m 10ms/step\n",
      "\u001b[1m5/5\u001b[0m \u001b[32m━━━━━━━━━━━━━━━━━━━━\u001b[0m\u001b[37m\u001b[0m \u001b[1m0s\u001b[0m 2ms/step \n",
      "\u001b[1m5/5\u001b[0m \u001b[32m━━━━━━━━━━━━━━━━━━━━\u001b[0m\u001b[37m\u001b[0m \u001b[1m0s\u001b[0m 1ms/step \n"
     ]
    },
    {
     "name": "stderr",
     "output_type": "stream",
     "text": [
      "[I 2024-11-02 23:31:33,237] Trial 5 finished with value: 1.2062268024823617 and parameters: {'optimizer': 'SGD', 'activation_function': 'leaky_relu', 'learning_rate': 1.0138322413956007e-05, 'num_neurons': 67, 'l1_reg': 2.1560751921437286e-06, 'l2_reg': 1.3292174193372714}. Best is trial 0 with value: 0.004717398814846414.\n"
     ]
    },
    {
     "name": "stdout",
     "output_type": "stream",
     "text": [
      "\u001b[1m5/5\u001b[0m \u001b[32m━━━━━━━━━━━━━━━━━━━━\u001b[0m\u001b[37m\u001b[0m \u001b[1m0s\u001b[0m 9ms/step \n",
      "\u001b[1m5/5\u001b[0m \u001b[32m━━━━━━━━━━━━━━━━━━━━\u001b[0m\u001b[37m\u001b[0m \u001b[1m0s\u001b[0m 1ms/step \n",
      "\u001b[1m5/5\u001b[0m \u001b[32m━━━━━━━━━━━━━━━━━━━━\u001b[0m\u001b[37m\u001b[0m \u001b[1m0s\u001b[0m 1ms/step \n"
     ]
    },
    {
     "name": "stderr",
     "output_type": "stream",
     "text": [
      "[I 2024-11-02 23:31:56,880] Trial 6 finished with value: 0.0017534906556113722 and parameters: {'optimizer': 'Adagrad', 'activation_function': 'leaky_relu', 'learning_rate': 0.0024951506720326515, 'num_neurons': 31, 'l1_reg': 1.3654201992424719e-08, 'l2_reg': 5.852565174402654e-07}. Best is trial 6 with value: 0.0017534906556113722.\n"
     ]
    },
    {
     "name": "stdout",
     "output_type": "stream",
     "text": [
      "\u001b[1m5/5\u001b[0m \u001b[32m━━━━━━━━━━━━━━━━━━━━\u001b[0m\u001b[37m\u001b[0m \u001b[1m0s\u001b[0m 8ms/step \n",
      "\u001b[1m5/5\u001b[0m \u001b[32m━━━━━━━━━━━━━━━━━━━━\u001b[0m\u001b[37m\u001b[0m \u001b[1m0s\u001b[0m 2ms/step \n",
      "\u001b[1m5/5\u001b[0m \u001b[32m━━━━━━━━━━━━━━━━━━━━\u001b[0m\u001b[37m\u001b[0m \u001b[1m0s\u001b[0m 2ms/step \n"
     ]
    },
    {
     "name": "stderr",
     "output_type": "stream",
     "text": [
      "[I 2024-11-02 23:32:19,822] Trial 7 finished with value: 0.26252570101353473 and parameters: {'optimizer': 'SGD', 'activation_function': 'leaky_relu', 'learning_rate': 0.00013601592850840283, 'num_neurons': 62, 'l1_reg': 2.38264511345659e-05, 'l2_reg': 2.9840591263587015}. Best is trial 6 with value: 0.0017534906556113722.\n"
     ]
    },
    {
     "name": "stdout",
     "output_type": "stream",
     "text": [
      "\u001b[1m5/5\u001b[0m \u001b[32m━━━━━━━━━━━━━━━━━━━━\u001b[0m\u001b[37m\u001b[0m \u001b[1m0s\u001b[0m 9ms/step \n",
      "\u001b[1m5/5\u001b[0m \u001b[32m━━━━━━━━━━━━━━━━━━━━\u001b[0m\u001b[37m\u001b[0m \u001b[1m0s\u001b[0m 2ms/step \n",
      "\u001b[1m5/5\u001b[0m \u001b[32m━━━━━━━━━━━━━━━━━━━━\u001b[0m\u001b[37m\u001b[0m \u001b[1m0s\u001b[0m 2ms/step \n"
     ]
    },
    {
     "name": "stderr",
     "output_type": "stream",
     "text": [
      "[I 2024-11-02 23:32:44,520] Trial 8 finished with value: 1.672551906185074 and parameters: {'optimizer': 'Adam', 'activation_function': 'relu', 'learning_rate': 1.0644192620770398e-05, 'num_neurons': 45, 'l1_reg': 22.427585270049423, 'l2_reg': 1.3266150113066648}. Best is trial 6 with value: 0.0017534906556113722.\n"
     ]
    },
    {
     "name": "stdout",
     "output_type": "stream",
     "text": [
      "\u001b[1m5/5\u001b[0m \u001b[32m━━━━━━━━━━━━━━━━━━━━\u001b[0m\u001b[37m\u001b[0m \u001b[1m0s\u001b[0m 11ms/step\n",
      "\u001b[1m5/5\u001b[0m \u001b[32m━━━━━━━━━━━━━━━━━━━━\u001b[0m\u001b[37m\u001b[0m \u001b[1m0s\u001b[0m 2ms/step \n",
      "\u001b[1m5/5\u001b[0m \u001b[32m━━━━━━━━━━━━━━━━━━━━\u001b[0m\u001b[37m\u001b[0m \u001b[1m0s\u001b[0m 2ms/step \n"
     ]
    },
    {
     "name": "stderr",
     "output_type": "stream",
     "text": [
      "[I 2024-11-02 23:32:54,014] Trial 9 finished with value: 1.002135678513218 and parameters: {'optimizer': 'RMSprop', 'activation_function': 'sigmoid', 'learning_rate': 0.0019722922172099905, 'num_neurons': 8, 'l1_reg': 19.087632892894845, 'l2_reg': 0.29629860376729034}. Best is trial 6 with value: 0.0017534906556113722.\n"
     ]
    },
    {
     "name": "stdout",
     "output_type": "stream",
     "text": [
      "\u001b[1m5/5\u001b[0m \u001b[32m━━━━━━━━━━━━━━━━━━━━\u001b[0m\u001b[37m\u001b[0m \u001b[1m0s\u001b[0m 23ms/step\n",
      "\u001b[1m5/5\u001b[0m \u001b[32m━━━━━━━━━━━━━━━━━━━━\u001b[0m\u001b[37m\u001b[0m \u001b[1m0s\u001b[0m 2ms/step \n",
      "\u001b[1m5/5\u001b[0m \u001b[32m━━━━━━━━━━━━━━━━━━━━\u001b[0m\u001b[37m\u001b[0m \u001b[1m0s\u001b[0m 2ms/step \n"
     ]
    },
    {
     "name": "stderr",
     "output_type": "stream",
     "text": [
      "[I 2024-11-02 23:33:14,668] Trial 10 finished with value: 0.0025649771744828717 and parameters: {'optimizer': 'Adagrad', 'activation_function': 'tanh', 'learning_rate': 0.0008813819480050352, 'num_neurons': 166, 'l1_reg': 3.7910269044509606e-08, 'l2_reg': 3.803708508122337e-06}. Best is trial 6 with value: 0.0017534906556113722.\n"
     ]
    },
    {
     "name": "stdout",
     "output_type": "stream",
     "text": [
      "\u001b[1m5/5\u001b[0m \u001b[32m━━━━━━━━━━━━━━━━━━━━\u001b[0m\u001b[37m\u001b[0m \u001b[1m0s\u001b[0m 14ms/step\n",
      "\u001b[1m5/5\u001b[0m \u001b[32m━━━━━━━━━━━━━━━━━━━━\u001b[0m\u001b[37m\u001b[0m \u001b[1m0s\u001b[0m 2ms/step \n",
      "\u001b[1m5/5\u001b[0m \u001b[32m━━━━━━━━━━━━━━━━━━━━\u001b[0m\u001b[37m\u001b[0m \u001b[1m0s\u001b[0m 2ms/step \n"
     ]
    },
    {
     "name": "stderr",
     "output_type": "stream",
     "text": [
      "[I 2024-11-02 23:33:34,729] Trial 11 finished with value: 0.0015987873180940105 and parameters: {'optimizer': 'Adagrad', 'activation_function': 'tanh', 'learning_rate': 0.0007680175897327496, 'num_neurons': 176, 'l1_reg': 2.6239648665244588e-08, 'l2_reg': 3.758266315350982e-06}. Best is trial 11 with value: 0.0015987873180940105.\n"
     ]
    },
    {
     "name": "stdout",
     "output_type": "stream",
     "text": [
      "\u001b[1m5/5\u001b[0m \u001b[32m━━━━━━━━━━━━━━━━━━━━\u001b[0m\u001b[37m\u001b[0m \u001b[1m0s\u001b[0m 8ms/step \n",
      "\u001b[1m5/5\u001b[0m \u001b[32m━━━━━━━━━━━━━━━━━━━━\u001b[0m\u001b[37m\u001b[0m \u001b[1m0s\u001b[0m 2ms/step \n",
      "\u001b[1m5/5\u001b[0m \u001b[32m━━━━━━━━━━━━━━━━━━━━\u001b[0m\u001b[37m\u001b[0m \u001b[1m0s\u001b[0m 2ms/step \n"
     ]
    },
    {
     "name": "stderr",
     "output_type": "stream",
     "text": [
      "[I 2024-11-02 23:33:53,470] Trial 12 finished with value: 0.0017873720462113867 and parameters: {'optimizer': 'Adagrad', 'activation_function': 'tanh', 'learning_rate': 0.0005916052182391653, 'num_neurons': 179, 'l1_reg': 1.5162689038243595e-08, 'l2_reg': 7.953905506271185e-06}. Best is trial 11 with value: 0.0015987873180940105.\n"
     ]
    },
    {
     "name": "stdout",
     "output_type": "stream",
     "text": [
      "\u001b[1m5/5\u001b[0m \u001b[32m━━━━━━━━━━━━━━━━━━━━\u001b[0m\u001b[37m\u001b[0m \u001b[1m0s\u001b[0m 11ms/step\n",
      "\u001b[1m5/5\u001b[0m \u001b[32m━━━━━━━━━━━━━━━━━━━━\u001b[0m\u001b[37m\u001b[0m \u001b[1m0s\u001b[0m 2ms/step \n",
      "\u001b[1m5/5\u001b[0m \u001b[32m━━━━━━━━━━━━━━━━━━━━\u001b[0m\u001b[37m\u001b[0m \u001b[1m0s\u001b[0m 5ms/step \n"
     ]
    },
    {
     "name": "stderr",
     "output_type": "stream",
     "text": [
      "[I 2024-11-02 23:34:20,352] Trial 13 finished with value: 0.0027416580092618457 and parameters: {'optimizer': 'Adagrad', 'activation_function': 'tanh', 'learning_rate': 0.005587438782193253, 'num_neurons': 17, 'l1_reg': 1.6257908590904244e-07, 'l2_reg': 1.7094223853354123e-05}. Best is trial 11 with value: 0.0015987873180940105.\n"
     ]
    },
    {
     "name": "stdout",
     "output_type": "stream",
     "text": [
      "\u001b[1m5/5\u001b[0m \u001b[32m━━━━━━━━━━━━━━━━━━━━\u001b[0m\u001b[37m\u001b[0m \u001b[1m0s\u001b[0m 11ms/step\n",
      "\u001b[1m5/5\u001b[0m \u001b[32m━━━━━━━━━━━━━━━━━━━━\u001b[0m\u001b[37m\u001b[0m \u001b[1m0s\u001b[0m 2ms/step \n",
      "\u001b[1m5/5\u001b[0m \u001b[32m━━━━━━━━━━━━━━━━━━━━\u001b[0m\u001b[37m\u001b[0m \u001b[1m0s\u001b[0m 2ms/step \n"
     ]
    },
    {
     "name": "stderr",
     "output_type": "stream",
     "text": [
      "[I 2024-11-02 23:34:33,844] Trial 14 finished with value: 4.147192236506643e-06 and parameters: {'optimizer': 'RMSprop', 'activation_function': 'leaky_relu', 'learning_rate': 0.0002420761192262763, 'num_neurons': 113, 'l1_reg': 6.818561531907929e-07, 'l2_reg': 6.29445077067131e-07}. Best is trial 14 with value: 4.147192236506643e-06.\n"
     ]
    },
    {
     "name": "stdout",
     "output_type": "stream",
     "text": [
      "\u001b[1m5/5\u001b[0m \u001b[32m━━━━━━━━━━━━━━━━━━━━\u001b[0m\u001b[37m\u001b[0m \u001b[1m0s\u001b[0m 12ms/step\n",
      "\u001b[1m5/5\u001b[0m \u001b[32m━━━━━━━━━━━━━━━━━━━━\u001b[0m\u001b[37m\u001b[0m \u001b[1m0s\u001b[0m 1ms/step \n",
      "\u001b[1m5/5\u001b[0m \u001b[32m━━━━━━━━━━━━━━━━━━━━\u001b[0m\u001b[37m\u001b[0m \u001b[1m0s\u001b[0m 2ms/step \n"
     ]
    },
    {
     "name": "stderr",
     "output_type": "stream",
     "text": [
      "[I 2024-11-02 23:35:00,168] Trial 15 finished with value: 9.751222035061695e-05 and parameters: {'optimizer': 'RMSprop', 'activation_function': 'tanh', 'learning_rate': 0.00020977189214514761, 'num_neurons': 86, 'l1_reg': 1.2236831976607594e-06, 'l2_reg': 0.0004023417903055834}. Best is trial 14 with value: 4.147192236506643e-06.\n"
     ]
    },
    {
     "name": "stdout",
     "output_type": "stream",
     "text": [
      "\u001b[1m5/5\u001b[0m \u001b[32m━━━━━━━━━━━━━━━━━━━━\u001b[0m\u001b[37m\u001b[0m \u001b[1m0s\u001b[0m 8ms/step \n",
      "\u001b[1m5/5\u001b[0m \u001b[32m━━━━━━━━━━━━━━━━━━━━\u001b[0m\u001b[37m\u001b[0m \u001b[1m0s\u001b[0m 2ms/step \n",
      "\u001b[1m5/5\u001b[0m \u001b[32m━━━━━━━━━━━━━━━━━━━━\u001b[0m\u001b[37m\u001b[0m \u001b[1m0s\u001b[0m 1ms/step \n"
     ]
    },
    {
     "name": "stderr",
     "output_type": "stream",
     "text": [
      "[I 2024-11-02 23:35:22,760] Trial 16 finished with value: 0.00039546545379548595 and parameters: {'optimizer': 'RMSprop', 'activation_function': 'sigmoid', 'learning_rate': 0.00013654403708866664, 'num_neurons': 98, 'l1_reg': 1.2898001383663068e-06, 'l2_reg': 0.0005790239683742787}. Best is trial 14 with value: 4.147192236506643e-06.\n"
     ]
    },
    {
     "name": "stdout",
     "output_type": "stream",
     "text": [
      "\u001b[1m5/5\u001b[0m \u001b[32m━━━━━━━━━━━━━━━━━━━━\u001b[0m\u001b[37m\u001b[0m \u001b[1m0s\u001b[0m 8ms/step \n",
      "\u001b[1m5/5\u001b[0m \u001b[32m━━━━━━━━━━━━━━━━━━━━\u001b[0m\u001b[37m\u001b[0m \u001b[1m0s\u001b[0m 1ms/step \n",
      "\u001b[1m5/5\u001b[0m \u001b[32m━━━━━━━━━━━━━━━━━━━━\u001b[0m\u001b[37m\u001b[0m \u001b[1m0s\u001b[0m 1ms/step \n"
     ]
    },
    {
     "name": "stderr",
     "output_type": "stream",
     "text": [
      "[I 2024-11-02 23:35:46,520] Trial 17 finished with value: 0.0008616017439887072 and parameters: {'optimizer': 'RMSprop', 'activation_function': 'relu', 'learning_rate': 5.463606064806021e-05, 'num_neurons': 105, 'l1_reg': 0.0010375073844956784, 'l2_reg': 0.01695683407364035}. Best is trial 14 with value: 4.147192236506643e-06.\n"
     ]
    },
    {
     "name": "stdout",
     "output_type": "stream",
     "text": [
      "\u001b[1m5/5\u001b[0m \u001b[32m━━━━━━━━━━━━━━━━━━━━\u001b[0m\u001b[37m\u001b[0m \u001b[1m0s\u001b[0m 11ms/step\n",
      "\u001b[1m5/5\u001b[0m \u001b[32m━━━━━━━━━━━━━━━━━━━━\u001b[0m\u001b[37m\u001b[0m \u001b[1m0s\u001b[0m 2ms/step \n",
      "\u001b[1m5/5\u001b[0m \u001b[32m━━━━━━━━━━━━━━━━━━━━\u001b[0m\u001b[37m\u001b[0m \u001b[1m0s\u001b[0m 2ms/step \n"
     ]
    },
    {
     "name": "stderr",
     "output_type": "stream",
     "text": [
      "[I 2024-11-02 23:36:03,513] Trial 18 finished with value: 7.854027063040775e-05 and parameters: {'optimizer': 'RMSprop', 'activation_function': 'tanh', 'learning_rate': 0.0003474392091430759, 'num_neurons': 102, 'l1_reg': 1.2956786559930685e-06, 'l2_reg': 4.574838526741385e-05}. Best is trial 14 with value: 4.147192236506643e-06.\n"
     ]
    },
    {
     "name": "stdout",
     "output_type": "stream",
     "text": [
      "\u001b[1m5/5\u001b[0m \u001b[32m━━━━━━━━━━━━━━━━━━━━\u001b[0m\u001b[37m\u001b[0m \u001b[1m0s\u001b[0m 7ms/step \n",
      "\u001b[1m5/5\u001b[0m \u001b[32m━━━━━━━━━━━━━━━━━━━━\u001b[0m\u001b[37m\u001b[0m \u001b[1m0s\u001b[0m 2ms/step \n",
      "\u001b[1m5/5\u001b[0m \u001b[32m━━━━━━━━━━━━━━━━━━━━\u001b[0m\u001b[37m\u001b[0m \u001b[1m0s\u001b[0m 2ms/step \n"
     ]
    },
    {
     "name": "stderr",
     "output_type": "stream",
     "text": [
      "[I 2024-11-02 23:36:25,369] Trial 19 finished with value: 0.5239765032549198 and parameters: {'optimizer': 'RMSprop', 'activation_function': 'leaky_relu', 'learning_rate': 0.00035335288977360834, 'num_neurons': 121, 'l1_reg': 0.017385186710079582, 'l2_reg': 98.8821376490876}. Best is trial 14 with value: 4.147192236506643e-06.\n"
     ]
    },
    {
     "name": "stdout",
     "output_type": "stream",
     "text": [
      "\u001b[1m5/5\u001b[0m \u001b[32m━━━━━━━━━━━━━━━━━━━━\u001b[0m\u001b[37m\u001b[0m \u001b[1m0s\u001b[0m 8ms/step \n",
      "\u001b[1m5/5\u001b[0m \u001b[32m━━━━━━━━━━━━━━━━━━━━\u001b[0m\u001b[37m\u001b[0m \u001b[1m0s\u001b[0m 2ms/step \n",
      "\u001b[1m5/5\u001b[0m \u001b[32m━━━━━━━━━━━━━━━━━━━━\u001b[0m\u001b[37m\u001b[0m \u001b[1m0s\u001b[0m 2ms/step \n"
     ]
    },
    {
     "name": "stderr",
     "output_type": "stream",
     "text": [
      "[I 2024-11-02 23:36:50,178] Trial 20 finished with value: 0.0022393633064697097 and parameters: {'optimizer': 'RMSprop', 'activation_function': 'tanh', 'learning_rate': 7.375171064561586e-05, 'num_neurons': 56, 'l1_reg': 9.167206824367237e-06, 'l2_reg': 5.522980749258298e-05}. Best is trial 14 with value: 4.147192236506643e-06.\n"
     ]
    },
    {
     "name": "stdout",
     "output_type": "stream",
     "text": [
      "\u001b[1m5/5\u001b[0m \u001b[32m━━━━━━━━━━━━━━━━━━━━\u001b[0m\u001b[37m\u001b[0m \u001b[1m0s\u001b[0m 11ms/step\n",
      "\u001b[1m5/5\u001b[0m \u001b[32m━━━━━━━━━━━━━━━━━━━━\u001b[0m\u001b[37m\u001b[0m \u001b[1m0s\u001b[0m 2ms/step \n",
      "\u001b[1m5/5\u001b[0m \u001b[32m━━━━━━━━━━━━━━━━━━━━\u001b[0m\u001b[37m\u001b[0m \u001b[1m0s\u001b[0m 1ms/step \n"
     ]
    },
    {
     "name": "stderr",
     "output_type": "stream",
     "text": [
      "[I 2024-11-02 23:37:13,445] Trial 21 finished with value: 9.34083399279686e-05 and parameters: {'optimizer': 'RMSprop', 'activation_function': 'tanh', 'learning_rate': 0.0002796202314930994, 'num_neurons': 82, 'l1_reg': 4.822373441464721e-07, 'l2_reg': 0.000163496792318378}. Best is trial 14 with value: 4.147192236506643e-06.\n"
     ]
    },
    {
     "name": "stdout",
     "output_type": "stream",
     "text": [
      "\u001b[1m5/5\u001b[0m \u001b[32m━━━━━━━━━━━━━━━━━━━━\u001b[0m\u001b[37m\u001b[0m \u001b[1m0s\u001b[0m 14ms/step\n",
      "\u001b[1m5/5\u001b[0m \u001b[32m━━━━━━━━━━━━━━━━━━━━\u001b[0m\u001b[37m\u001b[0m \u001b[1m0s\u001b[0m 2ms/step \n",
      "\u001b[1m5/5\u001b[0m \u001b[32m━━━━━━━━━━━━━━━━━━━━\u001b[0m\u001b[37m\u001b[0m \u001b[1m0s\u001b[0m 2ms/step \n"
     ]
    },
    {
     "name": "stderr",
     "output_type": "stream",
     "text": [
      "[I 2024-11-02 23:37:31,654] Trial 22 finished with value: 4.961051598030213e-05 and parameters: {'optimizer': 'RMSprop', 'activation_function': 'tanh', 'learning_rate': 0.0003422890809771344, 'num_neurons': 129, 'l1_reg': 2.471361797315979e-07, 'l2_reg': 3.064334342891698e-07}. Best is trial 14 with value: 4.147192236506643e-06.\n"
     ]
    },
    {
     "name": "stdout",
     "output_type": "stream",
     "text": [
      "\u001b[1m5/5\u001b[0m \u001b[32m━━━━━━━━━━━━━━━━━━━━\u001b[0m\u001b[37m\u001b[0m \u001b[1m0s\u001b[0m 8ms/step \n",
      "\u001b[1m5/5\u001b[0m \u001b[32m━━━━━━━━━━━━━━━━━━━━\u001b[0m\u001b[37m\u001b[0m \u001b[1m0s\u001b[0m 1ms/step \n",
      "\u001b[1m5/5\u001b[0m \u001b[32m━━━━━━━━━━━━━━━━━━━━\u001b[0m\u001b[37m\u001b[0m \u001b[1m0s\u001b[0m 2ms/step \n"
     ]
    },
    {
     "name": "stderr",
     "output_type": "stream",
     "text": [
      "[I 2024-11-02 23:37:43,372] Trial 23 finished with value: 6.343425589845546e-05 and parameters: {'optimizer': 'RMSprop', 'activation_function': 'tanh', 'learning_rate': 0.00047954864009078755, 'num_neurons': 136, 'l1_reg': 2.6055308724345147e-07, 'l2_reg': 3.063034559048929e-07}. Best is trial 14 with value: 4.147192236506643e-06.\n"
     ]
    },
    {
     "name": "stdout",
     "output_type": "stream",
     "text": [
      "\u001b[1m5/5\u001b[0m \u001b[32m━━━━━━━━━━━━━━━━━━━━\u001b[0m\u001b[37m\u001b[0m \u001b[1m0s\u001b[0m 8ms/step \n",
      "\u001b[1m5/5\u001b[0m \u001b[32m━━━━━━━━━━━━━━━━━━━━\u001b[0m\u001b[37m\u001b[0m \u001b[1m0s\u001b[0m 1ms/step \n",
      "\u001b[1m5/5\u001b[0m \u001b[32m━━━━━━━━━━━━━━━━━━━━\u001b[0m\u001b[37m\u001b[0m \u001b[1m0s\u001b[0m 2ms/step \n"
     ]
    },
    {
     "name": "stderr",
     "output_type": "stream",
     "text": [
      "[I 2024-11-02 23:37:51,294] Trial 24 finished with value: 0.00035995054035703526 and parameters: {'optimizer': 'RMSprop', 'activation_function': 'tanh', 'learning_rate': 0.0010254855677010997, 'num_neurons': 154, 'l1_reg': 1.5063092492680972e-07, 'l2_reg': 1.3689911753061744e-08}. Best is trial 14 with value: 4.147192236506643e-06.\n"
     ]
    },
    {
     "name": "stdout",
     "output_type": "stream",
     "text": [
      "\u001b[1m5/5\u001b[0m \u001b[32m━━━━━━━━━━━━━━━━━━━━\u001b[0m\u001b[37m\u001b[0m \u001b[1m0s\u001b[0m 8ms/step \n",
      "\u001b[1m5/5\u001b[0m \u001b[32m━━━━━━━━━━━━━━━━━━━━\u001b[0m\u001b[37m\u001b[0m \u001b[1m0s\u001b[0m 1ms/step \n",
      "\u001b[1m5/5\u001b[0m \u001b[32m━━━━━━━━━━━━━━━━━━━━\u001b[0m\u001b[37m\u001b[0m \u001b[1m0s\u001b[0m 2ms/step \n"
     ]
    },
    {
     "name": "stderr",
     "output_type": "stream",
     "text": [
      "[I 2024-11-02 23:38:13,884] Trial 25 finished with value: 1.2741658135842025e-05 and parameters: {'optimizer': 'RMSprop', 'activation_function': 'leaky_relu', 'learning_rate': 0.00043077532863014, 'num_neurons': 133, 'l1_reg': 0.0002425350416707156, 'l2_reg': 6.338847287384113e-07}. Best is trial 14 with value: 4.147192236506643e-06.\n"
     ]
    },
    {
     "name": "stdout",
     "output_type": "stream",
     "text": [
      "\u001b[1m5/5\u001b[0m \u001b[32m━━━━━━━━━━━━━━━━━━━━\u001b[0m\u001b[37m\u001b[0m \u001b[1m0s\u001b[0m 7ms/step \n",
      "\u001b[1m5/5\u001b[0m \u001b[32m━━━━━━━━━━━━━━━━━━━━\u001b[0m\u001b[37m\u001b[0m \u001b[1m0s\u001b[0m 1ms/step \n",
      "\u001b[1m5/5\u001b[0m \u001b[32m━━━━━━━━━━━━━━━━━━━━\u001b[0m\u001b[37m\u001b[0m \u001b[1m0s\u001b[0m 1ms/step \n"
     ]
    },
    {
     "name": "stderr",
     "output_type": "stream",
     "text": [
      "[I 2024-11-02 23:38:35,029] Trial 26 finished with value: 0.009025057895588195 and parameters: {'optimizer': 'SGD', 'activation_function': 'leaky_relu', 'learning_rate': 0.001249613016191062, 'num_neurons': 22, 'l1_reg': 0.0002639220038932449, 'l2_reg': 1.049590028934048e-07}. Best is trial 14 with value: 4.147192236506643e-06.\n"
     ]
    },
    {
     "name": "stdout",
     "output_type": "stream",
     "text": [
      "\u001b[1m5/5\u001b[0m \u001b[32m━━━━━━━━━━━━━━━━━━━━\u001b[0m\u001b[37m\u001b[0m \u001b[1m0s\u001b[0m 8ms/step \n",
      "\u001b[1m5/5\u001b[0m \u001b[32m━━━━━━━━━━━━━━━━━━━━\u001b[0m\u001b[37m\u001b[0m \u001b[1m0s\u001b[0m 2ms/step \n",
      "\u001b[1m5/5\u001b[0m \u001b[32m━━━━━━━━━━━━━━━━━━━━\u001b[0m\u001b[37m\u001b[0m \u001b[1m0s\u001b[0m 1ms/step \n"
     ]
    },
    {
     "name": "stderr",
     "output_type": "stream",
     "text": [
      "[I 2024-11-02 23:38:55,312] Trial 27 finished with value: 4.047780039176595e-05 and parameters: {'optimizer': 'RMSprop', 'activation_function': 'leaky_relu', 'learning_rate': 7.67718610050237e-05, 'num_neurons': 75, 'l1_reg': 7.342823848479185e-06, 'l2_reg': 1.4899609087221453e-06}. Best is trial 14 with value: 4.147192236506643e-06.\n"
     ]
    },
    {
     "name": "stdout",
     "output_type": "stream",
     "text": [
      "\u001b[1m5/5\u001b[0m \u001b[32m━━━━━━━━━━━━━━━━━━━━\u001b[0m\u001b[37m\u001b[0m \u001b[1m0s\u001b[0m 8ms/step \n",
      "\u001b[1m5/5\u001b[0m \u001b[32m━━━━━━━━━━━━━━━━━━━━\u001b[0m\u001b[37m\u001b[0m \u001b[1m0s\u001b[0m 1ms/step \n",
      "\u001b[1m5/5\u001b[0m \u001b[32m━━━━━━━━━━━━━━━━━━━━\u001b[0m\u001b[37m\u001b[0m \u001b[1m0s\u001b[0m 1ms/step \n"
     ]
    },
    {
     "name": "stderr",
     "output_type": "stream",
     "text": [
      "[I 2024-11-02 23:39:17,009] Trial 28 finished with value: 0.09764381203554763 and parameters: {'optimizer': 'RMSprop', 'activation_function': 'leaky_relu', 'learning_rate': 4.537867366339045e-05, 'num_neurons': 46, 'l1_reg': 7.652496763206807e-06, 'l2_reg': 1.054700700129605e-06}. Best is trial 14 with value: 4.147192236506643e-06.\n"
     ]
    },
    {
     "name": "stdout",
     "output_type": "stream",
     "text": [
      "\u001b[1m5/5\u001b[0m \u001b[32m━━━━━━━━━━━━━━━━━━━━\u001b[0m\u001b[37m\u001b[0m \u001b[1m0s\u001b[0m 9ms/step \n",
      "\u001b[1m5/5\u001b[0m \u001b[32m━━━━━━━━━━━━━━━━━━━━\u001b[0m\u001b[37m\u001b[0m \u001b[1m0s\u001b[0m 2ms/step \n",
      "\u001b[1m5/5\u001b[0m \u001b[32m━━━━━━━━━━━━━━━━━━━━\u001b[0m\u001b[37m\u001b[0m \u001b[1m0s\u001b[0m 1ms/step \n"
     ]
    },
    {
     "name": "stderr",
     "output_type": "stream",
     "text": [
      "[I 2024-11-02 23:39:38,776] Trial 29 finished with value: 0.018375244879796346 and parameters: {'optimizer': 'RMSprop', 'activation_function': 'leaky_relu', 'learning_rate': 2.7547145405696797e-05, 'num_neurons': 70, 'l1_reg': 0.053807611364117144, 'l2_reg': 7.195567511535804e-08}. Best is trial 14 with value: 4.147192236506643e-06.\n"
     ]
    },
    {
     "name": "stdout",
     "output_type": "stream",
     "text": [
      "\u001b[1m5/5\u001b[0m \u001b[32m━━━━━━━━━━━━━━━━━━━━\u001b[0m\u001b[37m\u001b[0m \u001b[1m0s\u001b[0m 7ms/step \n",
      "\u001b[1m5/5\u001b[0m \u001b[32m━━━━━━━━━━━━━━━━━━━━\u001b[0m\u001b[37m\u001b[0m \u001b[1m0s\u001b[0m 2ms/step \n",
      "\u001b[1m5/5\u001b[0m \u001b[32m━━━━━━━━━━━━━━━━━━━━\u001b[0m\u001b[37m\u001b[0m \u001b[1m0s\u001b[0m 2ms/step \n"
     ]
    },
    {
     "name": "stderr",
     "output_type": "stream",
     "text": [
      "[I 2024-11-02 23:40:00,527] Trial 30 finished with value: 0.012593666314594102 and parameters: {'optimizer': 'RMSprop', 'activation_function': 'leaky_relu', 'learning_rate': 8.778379259549188e-05, 'num_neurons': 11, 'l1_reg': 0.00039702675085390415, 'l2_reg': 1.6823039391432629e-06}. Best is trial 14 with value: 4.147192236506643e-06.\n"
     ]
    },
    {
     "name": "stdout",
     "output_type": "stream",
     "text": [
      "\u001b[1m5/5\u001b[0m \u001b[32m━━━━━━━━━━━━━━━━━━━━\u001b[0m\u001b[37m\u001b[0m \u001b[1m0s\u001b[0m 8ms/step \n",
      "\u001b[1m5/5\u001b[0m \u001b[32m━━━━━━━━━━━━━━━━━━━━\u001b[0m\u001b[37m\u001b[0m \u001b[1m0s\u001b[0m 2ms/step \n",
      "\u001b[1m5/5\u001b[0m \u001b[32m━━━━━━━━━━━━━━━━━━━━\u001b[0m\u001b[37m\u001b[0m \u001b[1m0s\u001b[0m 1ms/step \n"
     ]
    },
    {
     "name": "stderr",
     "output_type": "stream",
     "text": [
      "[I 2024-11-02 23:40:23,511] Trial 31 finished with value: 2.221684143808076e-06 and parameters: {'optimizer': 'RMSprop', 'activation_function': 'leaky_relu', 'learning_rate': 0.0002056507486431957, 'num_neurons': 199, 'l1_reg': 2.3245876147791472e-05, 'l2_reg': 4.371907855050314e-08}. Best is trial 31 with value: 2.221684143808076e-06.\n"
     ]
    },
    {
     "name": "stdout",
     "output_type": "stream",
     "text": [
      "\u001b[1m5/5\u001b[0m \u001b[32m━━━━━━━━━━━━━━━━━━━━\u001b[0m\u001b[37m\u001b[0m \u001b[1m0s\u001b[0m 9ms/step \n",
      "\u001b[1m5/5\u001b[0m \u001b[32m━━━━━━━━━━━━━━━━━━━━\u001b[0m\u001b[37m\u001b[0m \u001b[1m0s\u001b[0m 1ms/step \n",
      "\u001b[1m5/5\u001b[0m \u001b[32m━━━━━━━━━━━━━━━━━━━━\u001b[0m\u001b[37m\u001b[0m \u001b[1m0s\u001b[0m 2ms/step \n"
     ]
    },
    {
     "name": "stderr",
     "output_type": "stream",
     "text": [
      "[I 2024-11-02 23:40:45,953] Trial 32 finished with value: 2.9964740567884004e-06 and parameters: {'optimizer': 'RMSprop', 'activation_function': 'leaky_relu', 'learning_rate': 0.00021823563972620896, 'num_neurons': 128, 'l1_reg': 3.370796014435516e-05, 'l2_reg': 4.6343270244486e-08}. Best is trial 31 with value: 2.221684143808076e-06.\n"
     ]
    },
    {
     "name": "stdout",
     "output_type": "stream",
     "text": [
      "\u001b[1m5/5\u001b[0m \u001b[32m━━━━━━━━━━━━━━━━━━━━\u001b[0m\u001b[37m\u001b[0m \u001b[1m0s\u001b[0m 9ms/step \n",
      "\u001b[1m5/5\u001b[0m \u001b[32m━━━━━━━━━━━━━━━━━━━━\u001b[0m\u001b[37m\u001b[0m \u001b[1m0s\u001b[0m 1ms/step \n",
      "\u001b[1m5/5\u001b[0m \u001b[32m━━━━━━━━━━━━━━━━━━━━\u001b[0m\u001b[37m\u001b[0m \u001b[1m0s\u001b[0m 2ms/step \n"
     ]
    },
    {
     "name": "stderr",
     "output_type": "stream",
     "text": [
      "[I 2024-11-02 23:41:08,896] Trial 33 finished with value: 1.0672855751772748e-05 and parameters: {'optimizer': 'RMSprop', 'activation_function': 'leaky_relu', 'learning_rate': 0.0002016891960761046, 'num_neurons': 197, 'l1_reg': 0.00010325490268989271, 'l2_reg': 5.662119746236469e-08}. Best is trial 31 with value: 2.221684143808076e-06.\n"
     ]
    },
    {
     "name": "stdout",
     "output_type": "stream",
     "text": [
      "\u001b[1m5/5\u001b[0m \u001b[32m━━━━━━━━━━━━━━━━━━━━\u001b[0m\u001b[37m\u001b[0m \u001b[1m0s\u001b[0m 8ms/step \n",
      "\u001b[1m5/5\u001b[0m \u001b[32m━━━━━━━━━━━━━━━━━━━━\u001b[0m\u001b[37m\u001b[0m \u001b[1m0s\u001b[0m 1ms/step \n",
      "\u001b[1m5/5\u001b[0m \u001b[32m━━━━━━━━━━━━━━━━━━━━\u001b[0m\u001b[37m\u001b[0m \u001b[1m0s\u001b[0m 2ms/step \n"
     ]
    },
    {
     "name": "stderr",
     "output_type": "stream",
     "text": [
      "[I 2024-11-02 23:41:32,014] Trial 34 finished with value: 9.493588671855908e-05 and parameters: {'optimizer': 'Adam', 'activation_function': 'leaky_relu', 'learning_rate': 0.00020617740053594527, 'num_neurons': 193, 'l1_reg': 3.5087242360140676e-05, 'l2_reg': 3.4857893536470596e-08}. Best is trial 31 with value: 2.221684143808076e-06.\n"
     ]
    },
    {
     "name": "stdout",
     "output_type": "stream",
     "text": [
      "\u001b[1m5/5\u001b[0m \u001b[32m━━━━━━━━━━━━━━━━━━━━\u001b[0m\u001b[37m\u001b[0m \u001b[1m0s\u001b[0m 9ms/step \n",
      "\u001b[1m5/5\u001b[0m \u001b[32m━━━━━━━━━━━━━━━━━━━━\u001b[0m\u001b[37m\u001b[0m \u001b[1m0s\u001b[0m 2ms/step \n",
      "\u001b[1m5/5\u001b[0m \u001b[32m━━━━━━━━━━━━━━━━━━━━\u001b[0m\u001b[37m\u001b[0m \u001b[1m0s\u001b[0m 7ms/step \n"
     ]
    },
    {
     "name": "stderr",
     "output_type": "stream",
     "text": [
      "[I 2024-11-02 23:41:58,813] Trial 35 finished with value: 0.2769549753072153 and parameters: {'optimizer': 'Adam', 'activation_function': 'leaky_relu', 'learning_rate': 0.0001982548015047248, 'num_neurons': 5, 'l1_reg': 7.606207214085087e-05, 'l2_reg': 1.713519021163168e-08}. Best is trial 31 with value: 2.221684143808076e-06.\n"
     ]
    },
    {
     "name": "stdout",
     "output_type": "stream",
     "text": [
      "\u001b[1m5/5\u001b[0m \u001b[32m━━━━━━━━━━━━━━━━━━━━\u001b[0m\u001b[37m\u001b[0m \u001b[1m0s\u001b[0m 9ms/step \n",
      "\u001b[1m5/5\u001b[0m \u001b[32m━━━━━━━━━━━━━━━━━━━━\u001b[0m\u001b[37m\u001b[0m \u001b[1m0s\u001b[0m 2ms/step \n",
      "\u001b[1m5/5\u001b[0m \u001b[32m━━━━━━━━━━━━━━━━━━━━\u001b[0m\u001b[37m\u001b[0m \u001b[1m0s\u001b[0m 2ms/step \n"
     ]
    },
    {
     "name": "stderr",
     "output_type": "stream",
     "text": [
      "[I 2024-11-02 23:42:12,991] Trial 36 finished with value: 0.9981196994734526 and parameters: {'optimizer': 'SGD', 'activation_function': 'leaky_relu', 'learning_rate': 0.00011517711811854988, 'num_neurons': 200, 'l1_reg': 1.9085675260094972, 'l2_reg': 4.359481822063348e-08}. Best is trial 31 with value: 2.221684143808076e-06.\n"
     ]
    },
    {
     "name": "stdout",
     "output_type": "stream",
     "text": [
      "\u001b[1m5/5\u001b[0m \u001b[32m━━━━━━━━━━━━━━━━━━━━\u001b[0m\u001b[37m\u001b[0m \u001b[1m0s\u001b[0m 11ms/step\n",
      "\u001b[1m5/5\u001b[0m \u001b[32m━━━━━━━━━━━━━━━━━━━━\u001b[0m\u001b[37m\u001b[0m \u001b[1m0s\u001b[0m 2ms/step \n",
      "\u001b[1m5/5\u001b[0m \u001b[32m━━━━━━━━━━━━━━━━━━━━\u001b[0m\u001b[37m\u001b[0m \u001b[1m0s\u001b[0m 2ms/step \n"
     ]
    },
    {
     "name": "stderr",
     "output_type": "stream",
     "text": [
      "[I 2024-11-02 23:42:38,823] Trial 37 finished with value: 0.0002951497974192629 and parameters: {'optimizer': 'RMSprop', 'activation_function': 'relu', 'learning_rate': 0.00019636215353561115, 'num_neurons': 152, 'l1_reg': 0.0025489175936635345, 'l2_reg': 1.4708293268157174e-07}. Best is trial 31 with value: 2.221684143808076e-06.\n"
     ]
    },
    {
     "name": "stdout",
     "output_type": "stream",
     "text": [
      "\u001b[1m5/5\u001b[0m \u001b[32m━━━━━━━━━━━━━━━━━━━━\u001b[0m\u001b[37m\u001b[0m \u001b[1m0s\u001b[0m 8ms/step \n",
      "\u001b[1m5/5\u001b[0m \u001b[32m━━━━━━━━━━━━━━━━━━━━\u001b[0m\u001b[37m\u001b[0m \u001b[1m0s\u001b[0m 2ms/step \n",
      "\u001b[1m5/5\u001b[0m \u001b[32m━━━━━━━━━━━━━━━━━━━━\u001b[0m\u001b[37m\u001b[0m \u001b[1m0s\u001b[0m 1ms/step \n"
     ]
    },
    {
     "name": "stderr",
     "output_type": "stream",
     "text": [
      "[I 2024-11-02 23:43:02,316] Trial 38 finished with value: 2.2094041404645953e-05 and parameters: {'optimizer': 'RMSprop', 'activation_function': 'leaky_relu', 'learning_rate': 0.00012272996037985246, 'num_neurons': 114, 'l1_reg': 1.8457523604238834e-05, 'l2_reg': 0.005826293575200298}. Best is trial 31 with value: 2.221684143808076e-06.\n"
     ]
    },
    {
     "name": "stdout",
     "output_type": "stream",
     "text": [
      "\u001b[1m5/5\u001b[0m \u001b[32m━━━━━━━━━━━━━━━━━━━━\u001b[0m\u001b[37m\u001b[0m \u001b[1m0s\u001b[0m 7ms/step \n",
      "\u001b[1m5/5\u001b[0m \u001b[32m━━━━━━━━━━━━━━━━━━━━\u001b[0m\u001b[37m\u001b[0m \u001b[1m0s\u001b[0m 2ms/step \n",
      "\u001b[1m5/5\u001b[0m \u001b[32m━━━━━━━━━━━━━━━━━━━━\u001b[0m\u001b[37m\u001b[0m \u001b[1m0s\u001b[0m 2ms/step \n"
     ]
    },
    {
     "name": "stderr",
     "output_type": "stream",
     "text": [
      "[I 2024-11-02 23:43:24,721] Trial 39 finished with value: 0.0011741325353908367 and parameters: {'optimizer': 'Adam', 'activation_function': 'sigmoid', 'learning_rate': 0.0015252807910038104, 'num_neurons': 33, 'l1_reg': 9.744606611439139e-05, 'l2_reg': 1.659490359552189e-08}. Best is trial 31 with value: 2.221684143808076e-06.\n"
     ]
    },
    {
     "name": "stdout",
     "output_type": "stream",
     "text": [
      "\u001b[1m5/5\u001b[0m \u001b[32m━━━━━━━━━━━━━━━━━━━━\u001b[0m\u001b[37m\u001b[0m \u001b[1m0s\u001b[0m 7ms/step \n",
      "\u001b[1m5/5\u001b[0m \u001b[32m━━━━━━━━━━━━━━━━━━━━\u001b[0m\u001b[37m\u001b[0m \u001b[1m0s\u001b[0m 2ms/step \n",
      "\u001b[1m5/5\u001b[0m \u001b[32m━━━━━━━━━━━━━━━━━━━━\u001b[0m\u001b[37m\u001b[0m \u001b[1m0s\u001b[0m 2ms/step \n"
     ]
    },
    {
     "name": "stderr",
     "output_type": "stream",
     "text": [
      "[I 2024-11-02 23:43:46,979] Trial 40 finished with value: 0.0015012258097859335 and parameters: {'optimizer': 'SGD', 'activation_function': 'leaky_relu', 'learning_rate': 0.0006206302973119969, 'num_neurons': 92, 'l1_reg': 0.013026551697310328, 'l2_reg': 1.0035747404138097e-08}. Best is trial 31 with value: 2.221684143808076e-06.\n"
     ]
    },
    {
     "name": "stdout",
     "output_type": "stream",
     "text": [
      "\u001b[1m5/5\u001b[0m \u001b[32m━━━━━━━━━━━━━━━━━━━━\u001b[0m\u001b[37m\u001b[0m \u001b[1m0s\u001b[0m 9ms/step \n",
      "\u001b[1m5/5\u001b[0m \u001b[32m━━━━━━━━━━━━━━━━━━━━\u001b[0m\u001b[37m\u001b[0m \u001b[1m0s\u001b[0m 1ms/step \n",
      "\u001b[1m5/5\u001b[0m \u001b[32m━━━━━━━━━━━━━━━━━━━━\u001b[0m\u001b[37m\u001b[0m \u001b[1m0s\u001b[0m 2ms/step \n"
     ]
    },
    {
     "name": "stderr",
     "output_type": "stream",
     "text": [
      "[I 2024-11-02 23:44:09,330] Trial 41 finished with value: 1.5955763391130514e-05 and parameters: {'optimizer': 'RMSprop', 'activation_function': 'leaky_relu', 'learning_rate': 0.00045502274699585875, 'num_neurons': 130, 'l1_reg': 0.000291917101039295, 'l2_reg': 3.946530465560557e-07}. Best is trial 31 with value: 2.221684143808076e-06.\n"
     ]
    },
    {
     "name": "stdout",
     "output_type": "stream",
     "text": [
      "\u001b[1m5/5\u001b[0m \u001b[32m━━━━━━━━━━━━━━━━━━━━\u001b[0m\u001b[37m\u001b[0m \u001b[1m0s\u001b[0m 8ms/step \n",
      "\u001b[1m5/5\u001b[0m \u001b[32m━━━━━━━━━━━━━━━━━━━━\u001b[0m\u001b[37m\u001b[0m \u001b[1m0s\u001b[0m 2ms/step \n",
      "\u001b[1m5/5\u001b[0m \u001b[32m━━━━━━━━━━━━━━━━━━━━\u001b[0m\u001b[37m\u001b[0m \u001b[1m0s\u001b[0m 1ms/step \n"
     ]
    },
    {
     "name": "stderr",
     "output_type": "stream",
     "text": [
      "[I 2024-11-02 23:44:32,230] Trial 42 finished with value: 4.752748452717192e-05 and parameters: {'optimizer': 'RMSprop', 'activation_function': 'leaky_relu', 'learning_rate': 0.0002675392139960867, 'num_neurons': 147, 'l1_reg': 0.0011580216246475014, 'l2_reg': 7.709595533990081e-08}. Best is trial 31 with value: 2.221684143808076e-06.\n"
     ]
    },
    {
     "name": "stdout",
     "output_type": "stream",
     "text": [
      "\u001b[1m5/5\u001b[0m \u001b[32m━━━━━━━━━━━━━━━━━━━━\u001b[0m\u001b[37m\u001b[0m \u001b[1m0s\u001b[0m 8ms/step \n",
      "\u001b[1m5/5\u001b[0m \u001b[32m━━━━━━━━━━━━━━━━━━━━\u001b[0m\u001b[37m\u001b[0m \u001b[1m0s\u001b[0m 2ms/step \n",
      "\u001b[1m5/5\u001b[0m \u001b[32m━━━━━━━━━━━━━━━━━━━━\u001b[0m\u001b[37m\u001b[0m \u001b[1m0s\u001b[0m 2ms/step \n"
     ]
    },
    {
     "name": "stderr",
     "output_type": "stream",
     "text": [
      "[I 2024-11-02 23:44:41,797] Trial 43 finished with value: 2.739471236542565e-06 and parameters: {'optimizer': 'RMSprop', 'activation_function': 'leaky_relu', 'learning_rate': 0.00018051774188161966, 'num_neurons': 160, 'l1_reg': 3.2055965508839355e-06, 'l2_reg': 2.799593781758352e-07}. Best is trial 31 with value: 2.221684143808076e-06.\n"
     ]
    },
    {
     "name": "stdout",
     "output_type": "stream",
     "text": [
      "\u001b[1m5/5\u001b[0m \u001b[32m━━━━━━━━━━━━━━━━━━━━\u001b[0m\u001b[37m\u001b[0m \u001b[1m0s\u001b[0m 8ms/step \n",
      "\u001b[1m5/5\u001b[0m \u001b[32m━━━━━━━━━━━━━━━━━━━━\u001b[0m\u001b[37m\u001b[0m \u001b[1m0s\u001b[0m 1ms/step \n",
      "\u001b[1m5/5\u001b[0m \u001b[32m━━━━━━━━━━━━━━━━━━━━\u001b[0m\u001b[37m\u001b[0m \u001b[1m0s\u001b[0m 2ms/step \n"
     ]
    },
    {
     "name": "stderr",
     "output_type": "stream",
     "text": [
      "[I 2024-11-02 23:44:52,216] Trial 44 finished with value: 2.34640071627106e-06 and parameters: {'optimizer': 'RMSprop', 'activation_function': 'leaky_relu', 'learning_rate': 0.00016601456216957215, 'num_neurons': 157, 'l1_reg': 5.070202725000012e-06, 'l2_reg': 3.561057398967906e-08}. Best is trial 31 with value: 2.221684143808076e-06.\n"
     ]
    },
    {
     "name": "stdout",
     "output_type": "stream",
     "text": [
      "\u001b[1m5/5\u001b[0m \u001b[32m━━━━━━━━━━━━━━━━━━━━\u001b[0m\u001b[37m\u001b[0m \u001b[1m0s\u001b[0m 10ms/step\n",
      "\u001b[1m5/5\u001b[0m \u001b[32m━━━━━━━━━━━━━━━━━━━━\u001b[0m\u001b[37m\u001b[0m \u001b[1m0s\u001b[0m 2ms/step \n",
      "\u001b[1m5/5\u001b[0m \u001b[32m━━━━━━━━━━━━━━━━━━━━\u001b[0m\u001b[37m\u001b[0m \u001b[1m0s\u001b[0m 2ms/step \n"
     ]
    },
    {
     "name": "stderr",
     "output_type": "stream",
     "text": [
      "[I 2024-11-02 23:45:15,181] Trial 45 finished with value: 0.059623679506330025 and parameters: {'optimizer': 'RMSprop', 'activation_function': 'leaky_relu', 'learning_rate': 4.575430541525768e-05, 'num_neurons': 55, 'l1_reg': 5.9547297334151383e-08, 'l2_reg': 1.9988021383852232e-07}. Best is trial 31 with value: 2.221684143808076e-06.\n"
     ]
    },
    {
     "name": "stdout",
     "output_type": "stream",
     "text": [
      "\u001b[1m5/5\u001b[0m \u001b[32m━━━━━━━━━━━━━━━━━━━━\u001b[0m\u001b[37m\u001b[0m \u001b[1m0s\u001b[0m 8ms/step \n",
      "\u001b[1m5/5\u001b[0m \u001b[32m━━━━━━━━━━━━━━━━━━━━\u001b[0m\u001b[37m\u001b[0m \u001b[1m0s\u001b[0m 2ms/step \n",
      "\u001b[1m5/5\u001b[0m \u001b[32m━━━━━━━━━━━━━━━━━━━━\u001b[0m\u001b[37m\u001b[0m \u001b[1m0s\u001b[0m 2ms/step \n"
     ]
    },
    {
     "name": "stderr",
     "output_type": "stream",
     "text": [
      "[I 2024-11-02 23:45:27,146] Trial 46 finished with value: 3.859087307642939e-06 and parameters: {'optimizer': 'RMSprop', 'activation_function': 'relu', 'learning_rate': 0.00015050977623171457, 'num_neurons': 166, 'l1_reg': 3.049581024005117e-06, 'l2_reg': 5.250094105953761e-06}. Best is trial 31 with value: 2.221684143808076e-06.\n"
     ]
    },
    {
     "name": "stdout",
     "output_type": "stream",
     "text": [
      "\u001b[1m5/5\u001b[0m \u001b[32m━━━━━━━━━━━━━━━━━━━━\u001b[0m\u001b[37m\u001b[0m \u001b[1m0s\u001b[0m 9ms/step \n",
      "\u001b[1m5/5\u001b[0m \u001b[32m━━━━━━━━━━━━━━━━━━━━\u001b[0m\u001b[37m\u001b[0m \u001b[1m0s\u001b[0m 2ms/step \n",
      "\u001b[1m5/5\u001b[0m \u001b[32m━━━━━━━━━━━━━━━━━━━━\u001b[0m\u001b[37m\u001b[0m \u001b[1m0s\u001b[0m 1ms/step \n"
     ]
    },
    {
     "name": "stderr",
     "output_type": "stream",
     "text": [
      "[I 2024-11-02 23:45:43,422] Trial 47 finished with value: 0.0003227715082283218 and parameters: {'optimizer': 'RMSprop', 'activation_function': 'sigmoid', 'learning_rate': 0.00014400106508918894, 'num_neurons': 149, 'l1_reg': 3.7308060979034347e-06, 'l2_reg': 3.273903218500671e-06}. Best is trial 31 with value: 2.221684143808076e-06.\n"
     ]
    },
    {
     "name": "stdout",
     "output_type": "stream",
     "text": [
      "\u001b[1m5/5\u001b[0m \u001b[32m━━━━━━━━━━━━━━━━━━━━\u001b[0m\u001b[37m\u001b[0m \u001b[1m0s\u001b[0m 10ms/step\n",
      "\u001b[1m5/5\u001b[0m \u001b[32m━━━━━━━━━━━━━━━━━━━━\u001b[0m\u001b[37m\u001b[0m \u001b[1m0s\u001b[0m 6ms/step \n",
      "\u001b[1m5/5\u001b[0m \u001b[32m━━━━━━━━━━━━━━━━━━━━\u001b[0m\u001b[37m\u001b[0m \u001b[1m0s\u001b[0m 1ms/step \n"
     ]
    },
    {
     "name": "stderr",
     "output_type": "stream",
     "text": [
      "[I 2024-11-02 23:46:10,545] Trial 48 finished with value: 0.7528012443843215 and parameters: {'optimizer': 'Adagrad', 'activation_function': 'relu', 'learning_rate': 2.8786776406338162e-05, 'num_neurons': 182, 'l1_reg': 3.0551473117717232e-06, 'l2_reg': 4.104649989770975e-08}. Best is trial 31 with value: 2.221684143808076e-06.\n"
     ]
    },
    {
     "name": "stdout",
     "output_type": "stream",
     "text": [
      "\u001b[1m5/5\u001b[0m \u001b[32m━━━━━━━━━━━━━━━━━━━━\u001b[0m\u001b[37m\u001b[0m \u001b[1m0s\u001b[0m 9ms/step \n",
      "\u001b[1m5/5\u001b[0m \u001b[32m━━━━━━━━━━━━━━━━━━━━\u001b[0m\u001b[37m\u001b[0m \u001b[1m0s\u001b[0m 1ms/step \n",
      "\u001b[1m5/5\u001b[0m \u001b[32m━━━━━━━━━━━━━━━━━━━━\u001b[0m\u001b[37m\u001b[0m \u001b[1m0s\u001b[0m 2ms/step \n"
     ]
    },
    {
     "name": "stderr",
     "output_type": "stream",
     "text": [
      "[I 2024-11-02 23:46:33,660] Trial 49 finished with value: 0.6837728386661511 and parameters: {'optimizer': 'Adam', 'activation_function': 'relu', 'learning_rate': 9.762231425816316e-05, 'num_neurons': 165, 'l1_reg': 82.5145355580623, 'l2_reg': 1.0679051227089345e-05}. Best is trial 31 with value: 2.221684143808076e-06.\n"
     ]
    }
   ],
   "source": [
    "#-# Adjust the number of trials if you'd like to get more precise results \n",
    "study = optuna.create_study(direction='minimize')\n",
    "study.optimize(objective, n_trials=50)"
   ]
  },
  {
   "cell_type": "markdown",
   "metadata": {},
   "source": [
    "### 2.5 Print and save the best hyperparameters"
   ]
  },
  {
   "cell_type": "code",
   "execution_count": 20,
   "metadata": {},
   "outputs": [
    {
     "name": "stdout",
     "output_type": "stream",
     "text": [
      "Best trial value: 2.221684143808076e-06\n",
      "Best hyperparameters: {'optimizer': 'RMSprop', 'activation_function': 'leaky_relu', 'learning_rate': 0.0002056507486431957, 'num_neurons': 199, 'l1_reg': 2.3245876147791472e-05, 'l2_reg': 4.371907855050314e-08}\n"
     ]
    }
   ],
   "source": [
    "best_trial = study.best_trial\n",
    "print(f'Best trial value: {best_trial.value}')\n",
    "print(f'Best hyperparameters: {best_trial.params}')"
   ]
  },
  {
   "cell_type": "code",
   "execution_count": 21,
   "metadata": {},
   "outputs": [],
   "source": [
    "#-# Save the optimization results\n",
    "with open('optimization_results.txt', 'w') as f:\n",
    "    f.write(f'Best trial value: {best_trial.value}\\n')\n",
    "    f.write(f'Best hyperparameters: {best_trial.params}\\n')\n",
    "\n",
    "    f.write('\\nAll trial results:\\n')\n",
    "    for trial in study.trials:\n",
    "        f.write(f'Trial {trial.number}: Value={trial.value}, Params={trial.params}\\n')"
   ]
  },
  {
   "cell_type": "markdown",
   "metadata": {},
   "source": [
    "### 2.6 Retrieve the best hyperparameters "
   ]
  },
  {
   "cell_type": "code",
   "execution_count": 43,
   "metadata": {},
   "outputs": [],
   "source": [
    "best_params = study.best_params"
   ]
  },
  {
   "cell_type": "markdown",
   "metadata": {},
   "source": [
    "### 2.7 Build and train the final model with the best hyperparameters"
   ]
  },
  {
   "cell_type": "code",
   "execution_count": null,
   "metadata": {},
   "outputs": [],
   "source": [
    "model = tf.keras.Sequential([\n",
    "    tf.keras.layers.Input(shape=(X_train_scaled.shape[1],)),\n",
    "    tf.keras.layers.Dense(best_params['num_neurons'], activation=best_params['activation_function'], kernel_regularizer=l1_l2(l1=best_params['l1_reg'], l2=best_params['l2_reg'])),\n",
    "    tf.keras.layers.Dense(1)\n",
    "])"
   ]
  },
  {
   "cell_type": "code",
   "execution_count": 45,
   "metadata": {},
   "outputs": [],
   "source": [
    "#-# Select the best optimizer\n",
    "optimizer = getattr(tf.keras.optimizers, best_params['optimizer'])(learning_rate=best_params['learning_rate'])\n",
    "\n",
    "#-# Apply EarlyTopping technique to prevent overfitting\n",
    "early_stopping = EarlyStopping(monitor='val_loss', mode='min', restore_best_weights=True, patience=10, verbose=0)\n",
    "\n",
    "#-# Compile the model with the best optimizer\n",
    "model.compile(optimizer=optimizer, loss='mean_squared_error', metrics=['mse'])"
   ]
  },
  {
   "cell_type": "markdown",
   "metadata": {},
   "source": [
    "### 2.8 Train the model using the best hyperparameters "
   ]
  },
  {
   "cell_type": "code",
   "execution_count": null,
   "metadata": {},
   "outputs": [
    {
     "name": "stdout",
     "output_type": "stream",
     "text": [
      "Epoch 1/100\n",
      "\u001b[1m12/12\u001b[0m \u001b[32m━━━━━━━━━━━━━━━━━━━━\u001b[0m\u001b[37m\u001b[0m \u001b[1m1s\u001b[0m 15ms/step - loss: 0.7558 - mse: 0.7542 - val_loss: 0.6826 - val_mse: 0.6810\n",
      "Epoch 2/100\n",
      "\u001b[1m12/12\u001b[0m \u001b[32m━━━━━━━━━━━━━━━━━━━━\u001b[0m\u001b[37m\u001b[0m \u001b[1m0s\u001b[0m 4ms/step - loss: 0.5100 - mse: 0.5084 - val_loss: 0.5102 - val_mse: 0.5086\n",
      "Epoch 3/100\n",
      "\u001b[1m12/12\u001b[0m \u001b[32m━━━━━━━━━━━━━━━━━━━━\u001b[0m\u001b[37m\u001b[0m \u001b[1m0s\u001b[0m 4ms/step - loss: 0.3759 - mse: 0.3743 - val_loss: 0.3712 - val_mse: 0.3696\n",
      "Epoch 4/100\n",
      "\u001b[1m12/12\u001b[0m \u001b[32m━━━━━━━━━━━━━━━━━━━━\u001b[0m\u001b[37m\u001b[0m \u001b[1m0s\u001b[0m 4ms/step - loss: 0.2652 - mse: 0.2636 - val_loss: 0.2688 - val_mse: 0.2671\n",
      "Epoch 5/100\n",
      "\u001b[1m12/12\u001b[0m \u001b[32m━━━━━━━━━━━━━━━━━━━━\u001b[0m\u001b[37m\u001b[0m \u001b[1m0s\u001b[0m 4ms/step - loss: 0.1851 - mse: 0.1835 - val_loss: 0.1847 - val_mse: 0.1830\n",
      "Epoch 6/100\n",
      "\u001b[1m12/12\u001b[0m \u001b[32m━━━━━━━━━━━━━━━━━━━━\u001b[0m\u001b[37m\u001b[0m \u001b[1m0s\u001b[0m 4ms/step - loss: 0.1073 - mse: 0.1057 - val_loss: 0.1177 - val_mse: 0.1161\n",
      "Epoch 7/100\n",
      "\u001b[1m12/12\u001b[0m \u001b[32m━━━━━━━━━━━━━━━━━━━━\u001b[0m\u001b[37m\u001b[0m \u001b[1m0s\u001b[0m 4ms/step - loss: 0.0682 - mse: 0.0665 - val_loss: 0.0729 - val_mse: 0.0713\n",
      "Epoch 8/100\n",
      "\u001b[1m12/12\u001b[0m \u001b[32m━━━━━━━━━━━━━━━━━━━━\u001b[0m\u001b[37m\u001b[0m \u001b[1m0s\u001b[0m 4ms/step - loss: 0.0408 - mse: 0.0392 - val_loss: 0.0405 - val_mse: 0.0388\n",
      "Epoch 9/100\n",
      "\u001b[1m12/12\u001b[0m \u001b[32m━━━━━━━━━━━━━━━━━━━━\u001b[0m\u001b[37m\u001b[0m \u001b[1m0s\u001b[0m 4ms/step - loss: 0.0219 - mse: 0.0202 - val_loss: 0.0225 - val_mse: 0.0208\n",
      "Epoch 10/100\n",
      "\u001b[1m12/12\u001b[0m \u001b[32m━━━━━━━━━━━━━━━━━━━━\u001b[0m\u001b[37m\u001b[0m \u001b[1m0s\u001b[0m 5ms/step - loss: 0.0120 - mse: 0.0104 - val_loss: 0.0118 - val_mse: 0.0101\n",
      "Epoch 11/100\n",
      "\u001b[1m12/12\u001b[0m \u001b[32m━━━━━━━━━━━━━━━━━━━━\u001b[0m\u001b[37m\u001b[0m \u001b[1m0s\u001b[0m 5ms/step - loss: 0.0070 - mse: 0.0054 - val_loss: 0.0060 - val_mse: 0.0043\n",
      "Epoch 12/100\n",
      "\u001b[1m12/12\u001b[0m \u001b[32m━━━━━━━━━━━━━━━━━━━━\u001b[0m\u001b[37m\u001b[0m \u001b[1m0s\u001b[0m 4ms/step - loss: 0.0046 - mse: 0.0030 - val_loss: 0.0035 - val_mse: 0.0018\n",
      "Epoch 13/100\n",
      "\u001b[1m12/12\u001b[0m \u001b[32m━━━━━━━━━━━━━━━━━━━━\u001b[0m\u001b[37m\u001b[0m \u001b[1m0s\u001b[0m 4ms/step - loss: 0.0031 - mse: 0.0015 - val_loss: 0.0027 - val_mse: 0.0010\n",
      "Epoch 14/100\n",
      "\u001b[1m12/12\u001b[0m \u001b[32m━━━━━━━━━━━━━━━━━━━━\u001b[0m\u001b[37m\u001b[0m \u001b[1m0s\u001b[0m 4ms/step - loss: 0.0028 - mse: 0.0012 - val_loss: 0.0027 - val_mse: 0.0010\n",
      "Epoch 15/100\n",
      "\u001b[1m12/12\u001b[0m \u001b[32m━━━━━━━━━━━━━━━━━━━━\u001b[0m\u001b[37m\u001b[0m \u001b[1m0s\u001b[0m 4ms/step - loss: 0.0027 - mse: 0.0011 - val_loss: 0.0025 - val_mse: 8.4254e-04\n",
      "Epoch 16/100\n",
      "\u001b[1m12/12\u001b[0m \u001b[32m━━━━━━━━━━━━━━━━━━━━\u001b[0m\u001b[37m\u001b[0m \u001b[1m0s\u001b[0m 6ms/step - loss: 0.0025 - mse: 8.8495e-04 - val_loss: 0.0023 - val_mse: 6.6207e-04\n",
      "Epoch 17/100\n",
      "\u001b[1m12/12\u001b[0m \u001b[32m━━━━━━━━━━━━━━━━━━━━\u001b[0m\u001b[37m\u001b[0m \u001b[1m0s\u001b[0m 5ms/step - loss: 0.0023 - mse: 6.8231e-04 - val_loss: 0.0024 - val_mse: 8.1567e-04\n",
      "Epoch 18/100\n",
      "\u001b[1m12/12\u001b[0m \u001b[32m━━━━━━━━━━━━━━━━━━━━\u001b[0m\u001b[37m\u001b[0m \u001b[1m0s\u001b[0m 4ms/step - loss: 0.0023 - mse: 6.1886e-04 - val_loss: 0.0020 - val_mse: 3.8672e-04\n",
      "Epoch 19/100\n",
      "\u001b[1m12/12\u001b[0m \u001b[32m━━━━━━━━━━━━━━━━━━━━\u001b[0m\u001b[37m\u001b[0m \u001b[1m0s\u001b[0m 4ms/step - loss: 0.0021 - mse: 4.6355e-04 - val_loss: 0.0021 - val_mse: 4.8185e-04\n",
      "Epoch 20/100\n",
      "\u001b[1m12/12\u001b[0m \u001b[32m━━━━━━━━━━━━━━━━━━━━\u001b[0m\u001b[37m\u001b[0m \u001b[1m0s\u001b[0m 4ms/step - loss: 0.0020 - mse: 3.4547e-04 - val_loss: 0.0021 - val_mse: 4.6618e-04\n",
      "Epoch 21/100\n",
      "\u001b[1m12/12\u001b[0m \u001b[32m━━━━━━━━━━━━━━━━━━━━\u001b[0m\u001b[37m\u001b[0m \u001b[1m0s\u001b[0m 6ms/step - loss: 0.0019 - mse: 2.5587e-04 - val_loss: 0.0020 - val_mse: 3.6273e-04\n",
      "Epoch 22/100\n",
      "\u001b[1m12/12\u001b[0m \u001b[32m━━━━━━━━━━━━━━━━━━━━\u001b[0m\u001b[37m\u001b[0m \u001b[1m0s\u001b[0m 4ms/step - loss: 0.0019 - mse: 2.2605e-04 - val_loss: 0.0019 - val_mse: 2.3253e-04\n",
      "Epoch 23/100\n",
      "\u001b[1m12/12\u001b[0m \u001b[32m━━━━━━━━━━━━━━━━━━━━\u001b[0m\u001b[37m\u001b[0m \u001b[1m0s\u001b[0m 4ms/step - loss: 0.0018 - mse: 1.7071e-04 - val_loss: 0.0019 - val_mse: 2.2616e-04\n",
      "Epoch 24/100\n",
      "\u001b[1m12/12\u001b[0m \u001b[32m━━━━━━━━━━━━━━━━━━━━\u001b[0m\u001b[37m\u001b[0m \u001b[1m0s\u001b[0m 4ms/step - loss: 0.0018 - mse: 1.2943e-04 - val_loss: 0.0018 - val_mse: 1.8712e-04\n",
      "Epoch 25/100\n",
      "\u001b[1m12/12\u001b[0m \u001b[32m━━━━━━━━━━━━━━━━━━━━\u001b[0m\u001b[37m\u001b[0m \u001b[1m0s\u001b[0m 7ms/step - loss: 0.0017 - mse: 1.1508e-04 - val_loss: 0.0018 - val_mse: 1.8603e-04\n",
      "Epoch 26/100\n",
      "\u001b[1m12/12\u001b[0m \u001b[32m━━━━━━━━━━━━━━━━━━━━\u001b[0m\u001b[37m\u001b[0m \u001b[1m0s\u001b[0m 4ms/step - loss: 0.0017 - mse: 1.0591e-04 - val_loss: 0.0017 - val_mse: 1.1652e-04\n",
      "Epoch 27/100\n",
      "\u001b[1m12/12\u001b[0m \u001b[32m━━━━━━━━━━━━━━━━━━━━\u001b[0m\u001b[37m\u001b[0m \u001b[1m0s\u001b[0m 4ms/step - loss: 0.0017 - mse: 7.0332e-05 - val_loss: 0.0017 - val_mse: 1.2255e-04\n",
      "Epoch 28/100\n",
      "\u001b[1m12/12\u001b[0m \u001b[32m━━━━━━━━━━━━━━━━━━━━\u001b[0m\u001b[37m\u001b[0m \u001b[1m0s\u001b[0m 4ms/step - loss: 0.0017 - mse: 5.4194e-05 - val_loss: 0.0018 - val_mse: 1.9547e-04\n",
      "Epoch 29/100\n",
      "\u001b[1m12/12\u001b[0m \u001b[32m━━━━━━━━━━━━━━━━━━━━\u001b[0m\u001b[37m\u001b[0m \u001b[1m0s\u001b[0m 5ms/step - loss: 0.0017 - mse: 4.9578e-05 - val_loss: 0.0018 - val_mse: 1.7198e-04\n",
      "Epoch 30/100\n",
      "\u001b[1m12/12\u001b[0m \u001b[32m━━━━━━━━━━━━━━━━━━━━\u001b[0m\u001b[37m\u001b[0m \u001b[1m0s\u001b[0m 5ms/step - loss: 0.0017 - mse: 5.2721e-05 - val_loss: 0.0018 - val_mse: 1.4718e-04\n",
      "Epoch 31/100\n",
      "\u001b[1m12/12\u001b[0m \u001b[32m━━━━━━━━━━━━━━━━━━━━\u001b[0m\u001b[37m\u001b[0m \u001b[1m0s\u001b[0m 5ms/step - loss: 0.0017 - mse: 6.7195e-05 - val_loss: 0.0016 - val_mse: 3.6412e-05\n",
      "Epoch 32/100\n",
      "\u001b[1m12/12\u001b[0m \u001b[32m━━━━━━━━━━━━━━━━━━━━\u001b[0m\u001b[37m\u001b[0m \u001b[1m0s\u001b[0m 6ms/step - loss: 0.0016 - mse: 3.1433e-05 - val_loss: 0.0017 - val_mse: 5.4202e-05\n",
      "Epoch 33/100\n",
      "\u001b[1m12/12\u001b[0m \u001b[32m━━━━━━━━━━━━━━━━━━━━\u001b[0m\u001b[37m\u001b[0m \u001b[1m0s\u001b[0m 6ms/step - loss: 0.0016 - mse: 2.2425e-05 - val_loss: 0.0016 - val_mse: 4.2666e-05\n",
      "Epoch 34/100\n",
      "\u001b[1m12/12\u001b[0m \u001b[32m━━━━━━━━━━━━━━━━━━━━\u001b[0m\u001b[37m\u001b[0m \u001b[1m0s\u001b[0m 7ms/step - loss: 0.0016 - mse: 3.2433e-05 - val_loss: 0.0017 - val_mse: 4.7010e-05\n",
      "Epoch 35/100\n",
      "\u001b[1m12/12\u001b[0m \u001b[32m━━━━━━━━━━━━━━━━━━━━\u001b[0m\u001b[37m\u001b[0m \u001b[1m0s\u001b[0m 5ms/step - loss: 0.0016 - mse: 2.4018e-05 - val_loss: 0.0017 - val_mse: 8.1754e-05\n",
      "Epoch 36/100\n",
      "\u001b[1m12/12\u001b[0m \u001b[32m━━━━━━━━━━━━━━━━━━━━\u001b[0m\u001b[37m\u001b[0m \u001b[1m0s\u001b[0m 5ms/step - loss: 0.0016 - mse: 3.1538e-05 - val_loss: 0.0018 - val_mse: 1.5113e-04\n",
      "Epoch 37/100\n",
      "\u001b[1m12/12\u001b[0m \u001b[32m━━━━━━━━━━━━━━━━━━━━\u001b[0m\u001b[37m\u001b[0m \u001b[1m0s\u001b[0m 6ms/step - loss: 0.0016 - mse: 3.6857e-05 - val_loss: 0.0017 - val_mse: 5.3230e-05\n",
      "Epoch 38/100\n",
      "\u001b[1m12/12\u001b[0m \u001b[32m━━━━━━━━━━━━━━━━━━━━\u001b[0m\u001b[37m\u001b[0m \u001b[1m0s\u001b[0m 5ms/step - loss: 0.0016 - mse: 4.0521e-05 - val_loss: 0.0016 - val_mse: 1.9509e-05\n",
      "Epoch 39/100\n",
      "\u001b[1m12/12\u001b[0m \u001b[32m━━━━━━━━━━━━━━━━━━━━\u001b[0m\u001b[37m\u001b[0m \u001b[1m0s\u001b[0m 6ms/step - loss: 0.0016 - mse: 1.4063e-05 - val_loss: 0.0017 - val_mse: 7.7903e-05\n",
      "Epoch 40/100\n",
      "\u001b[1m12/12\u001b[0m \u001b[32m━━━━━━━━━━━━━━━━━━━━\u001b[0m\u001b[37m\u001b[0m \u001b[1m0s\u001b[0m 6ms/step - loss: 0.0017 - mse: 8.6784e-05 - val_loss: 0.0016 - val_mse: 2.6955e-05\n",
      "Epoch 41/100\n",
      "\u001b[1m12/12\u001b[0m \u001b[32m━━━━━━━━━━━━━━━━━━━━\u001b[0m\u001b[37m\u001b[0m \u001b[1m0s\u001b[0m 6ms/step - loss: 0.0016 - mse: 7.2383e-06 - val_loss: 0.0016 - val_mse: 4.5307e-05\n",
      "Epoch 42/100\n",
      "\u001b[1m12/12\u001b[0m \u001b[32m━━━━━━━━━━━━━━━━━━━━\u001b[0m\u001b[37m\u001b[0m \u001b[1m0s\u001b[0m 6ms/step - loss: 0.0017 - mse: 6.5834e-05 - val_loss: 0.0016 - val_mse: 1.8896e-05\n",
      "Epoch 43/100\n",
      "\u001b[1m12/12\u001b[0m \u001b[32m━━━━━━━━━━━━━━━━━━━━\u001b[0m\u001b[37m\u001b[0m \u001b[1m0s\u001b[0m 5ms/step - loss: 0.0016 - mse: 3.4890e-05 - val_loss: 0.0016 - val_mse: 2.5218e-05\n",
      "Epoch 44/100\n",
      "\u001b[1m12/12\u001b[0m \u001b[32m━━━━━━━━━━━━━━━━━━━━\u001b[0m\u001b[37m\u001b[0m \u001b[1m0s\u001b[0m 6ms/step - loss: 0.0016 - mse: 1.0401e-05 - val_loss: 0.0016 - val_mse: 1.9497e-05\n",
      "Epoch 45/100\n",
      "\u001b[1m12/12\u001b[0m \u001b[32m━━━━━━━━━━━━━━━━━━━━\u001b[0m\u001b[37m\u001b[0m \u001b[1m0s\u001b[0m 5ms/step - loss: 0.0016 - mse: 1.9779e-05 - val_loss: 0.0016 - val_mse: 5.3677e-05\n",
      "Epoch 46/100\n",
      "\u001b[1m12/12\u001b[0m \u001b[32m━━━━━━━━━━━━━━━━━━━━\u001b[0m\u001b[37m\u001b[0m \u001b[1m0s\u001b[0m 6ms/step - loss: 0.0016 - mse: 1.8280e-05 - val_loss: 0.0016 - val_mse: 6.5171e-05\n",
      "Epoch 47/100\n",
      "\u001b[1m12/12\u001b[0m \u001b[32m━━━━━━━━━━━━━━━━━━━━\u001b[0m\u001b[37m\u001b[0m \u001b[1m0s\u001b[0m 5ms/step - loss: 0.0016 - mse: 4.3934e-05 - val_loss: 0.0016 - val_mse: 1.2818e-05\n",
      "Epoch 48/100\n",
      "\u001b[1m12/12\u001b[0m \u001b[32m━━━━━━━━━━━━━━━━━━━━\u001b[0m\u001b[37m\u001b[0m \u001b[1m0s\u001b[0m 11ms/step - loss: 0.0016 - mse: 1.2972e-05 - val_loss: 0.0017 - val_mse: 1.6356e-04\n",
      "Epoch 49/100\n",
      "\u001b[1m12/12\u001b[0m \u001b[32m━━━━━━━━━━━━━━━━━━━━\u001b[0m\u001b[37m\u001b[0m \u001b[1m0s\u001b[0m 5ms/step - loss: 0.0016 - mse: 4.9683e-05 - val_loss: 0.0016 - val_mse: 1.0433e-05\n",
      "Epoch 50/100\n",
      "\u001b[1m12/12\u001b[0m \u001b[32m━━━━━━━━━━━━━━━━━━━━\u001b[0m\u001b[37m\u001b[0m \u001b[1m0s\u001b[0m 5ms/step - loss: 0.0016 - mse: 2.2866e-05 - val_loss: 0.0017 - val_mse: 8.5134e-05\n",
      "Epoch 51/100\n",
      "\u001b[1m12/12\u001b[0m \u001b[32m━━━━━━━━━━━━━━━━━━━━\u001b[0m\u001b[37m\u001b[0m \u001b[1m0s\u001b[0m 5ms/step - loss: 0.0016 - mse: 3.7408e-05 - val_loss: 0.0016 - val_mse: 1.3551e-05\n",
      "Epoch 52/100\n",
      "\u001b[1m12/12\u001b[0m \u001b[32m━━━━━━━━━━━━━━━━━━━━\u001b[0m\u001b[37m\u001b[0m \u001b[1m0s\u001b[0m 6ms/step - loss: 0.0016 - mse: 2.9113e-05 - val_loss: 0.0017 - val_mse: 1.4374e-04\n",
      "Epoch 53/100\n",
      "\u001b[1m12/12\u001b[0m \u001b[32m━━━━━━━━━━━━━━━━━━━━\u001b[0m\u001b[37m\u001b[0m \u001b[1m0s\u001b[0m 6ms/step - loss: 0.0016 - mse: 8.1024e-05 - val_loss: 0.0016 - val_mse: 6.1945e-06\n",
      "Epoch 54/100\n",
      "\u001b[1m12/12\u001b[0m \u001b[32m━━━━━━━━━━━━━━━━━━━━\u001b[0m\u001b[37m\u001b[0m \u001b[1m0s\u001b[0m 4ms/step - loss: 0.0016 - mse: 2.1564e-05 - val_loss: 0.0018 - val_mse: 2.4197e-04\n",
      "Epoch 55/100\n",
      "\u001b[1m12/12\u001b[0m \u001b[32m━━━━━━━━━━━━━━━━━━━━\u001b[0m\u001b[37m\u001b[0m \u001b[1m0s\u001b[0m 5ms/step - loss: 0.0016 - mse: 6.9171e-05 - val_loss: 0.0016 - val_mse: 8.8674e-06\n",
      "Epoch 56/100\n",
      "\u001b[1m12/12\u001b[0m \u001b[32m━━━━━━━━━━━━━━━━━━━━\u001b[0m\u001b[37m\u001b[0m \u001b[1m0s\u001b[0m 8ms/step - loss: 0.0016 - mse: 3.4807e-06 - val_loss: 0.0016 - val_mse: 1.5840e-05\n",
      "Epoch 57/100\n",
      "\u001b[1m12/12\u001b[0m \u001b[32m━━━━━━━━━━━━━━━━━━━━\u001b[0m\u001b[37m\u001b[0m \u001b[1m0s\u001b[0m 5ms/step - loss: 0.0016 - mse: 5.4852e-05 - val_loss: 0.0016 - val_mse: 1.1199e-05\n",
      "Epoch 58/100\n",
      "\u001b[1m12/12\u001b[0m \u001b[32m━━━━━━━━━━━━━━━━━━━━\u001b[0m\u001b[37m\u001b[0m \u001b[1m0s\u001b[0m 5ms/step - loss: 0.0016 - mse: 1.6956e-05 - val_loss: 0.0016 - val_mse: 5.1878e-05\n",
      "Epoch 59/100\n",
      "\u001b[1m12/12\u001b[0m \u001b[32m━━━━━━━━━━━━━━━━━━━━\u001b[0m\u001b[37m\u001b[0m \u001b[1m0s\u001b[0m 4ms/step - loss: 0.0016 - mse: 6.3028e-05 - val_loss: 0.0016 - val_mse: 1.1446e-05\n",
      "Epoch 60/100\n",
      "\u001b[1m12/12\u001b[0m \u001b[32m━━━━━━━━━━━━━━━━━━━━\u001b[0m\u001b[37m\u001b[0m \u001b[1m0s\u001b[0m 4ms/step - loss: 0.0016 - mse: 3.2118e-05 - val_loss: 0.0016 - val_mse: 8.5439e-06\n",
      "Epoch 61/100\n",
      "\u001b[1m12/12\u001b[0m \u001b[32m━━━━━━━━━━━━━━━━━━━━\u001b[0m\u001b[37m\u001b[0m \u001b[1m0s\u001b[0m 5ms/step - loss: 0.0016 - mse: 1.8394e-05 - val_loss: 0.0016 - val_mse: 5.0273e-06\n",
      "Epoch 62/100\n",
      "\u001b[1m12/12\u001b[0m \u001b[32m━━━━━━━━━━━━━━━━━━━━\u001b[0m\u001b[37m\u001b[0m \u001b[1m0s\u001b[0m 5ms/step - loss: 0.0016 - mse: 4.9289e-06 - val_loss: 0.0016 - val_mse: 8.1222e-05\n",
      "Epoch 63/100\n",
      "\u001b[1m12/12\u001b[0m \u001b[32m━━━━━━━━━━━━━━━━━━━━\u001b[0m\u001b[37m\u001b[0m \u001b[1m0s\u001b[0m 5ms/step - loss: 0.0016 - mse: 7.1957e-05 - val_loss: 0.0016 - val_mse: 6.3369e-06\n",
      "Epoch 64/100\n",
      "\u001b[1m12/12\u001b[0m \u001b[32m━━━━━━━━━━━━━━━━━━━━\u001b[0m\u001b[37m\u001b[0m \u001b[1m0s\u001b[0m 6ms/step - loss: 0.0016 - mse: 6.7545e-06 - val_loss: 0.0016 - val_mse: 9.1981e-05\n",
      "Epoch 65/100\n",
      "\u001b[1m12/12\u001b[0m \u001b[32m━━━━━━━━━━━━━━━━━━━━\u001b[0m\u001b[37m\u001b[0m \u001b[1m0s\u001b[0m 7ms/step - loss: 0.0016 - mse: 4.1302e-05 - val_loss: 0.0016 - val_mse: 2.3876e-05\n",
      "Epoch 66/100\n",
      "\u001b[1m12/12\u001b[0m \u001b[32m━━━━━━━━━━━━━━━━━━━━\u001b[0m\u001b[37m\u001b[0m \u001b[1m0s\u001b[0m 5ms/step - loss: 0.0016 - mse: 3.9147e-05 - val_loss: 0.0015 - val_mse: 4.5732e-06\n",
      "Epoch 67/100\n",
      "\u001b[1m12/12\u001b[0m \u001b[32m━━━━━━━━━━━━━━━━━━━━\u001b[0m\u001b[37m\u001b[0m \u001b[1m0s\u001b[0m 6ms/step - loss: 0.0015 - mse: 3.3010e-06 - val_loss: 0.0016 - val_mse: 2.5599e-05\n",
      "Epoch 68/100\n",
      "\u001b[1m12/12\u001b[0m \u001b[32m━━━━━━━━━━━━━━━━━━━━\u001b[0m\u001b[37m\u001b[0m \u001b[1m0s\u001b[0m 6ms/step - loss: 0.0016 - mse: 6.6602e-05 - val_loss: 0.0015 - val_mse: 3.8819e-06\n",
      "Epoch 69/100\n",
      "\u001b[1m12/12\u001b[0m \u001b[32m━━━━━━━━━━━━━━━━━━━━\u001b[0m\u001b[37m\u001b[0m \u001b[1m0s\u001b[0m 6ms/step - loss: 0.0015 - mse: 7.1627e-06 - val_loss: 0.0016 - val_mse: 8.2881e-05\n",
      "Epoch 70/100\n",
      "\u001b[1m12/12\u001b[0m \u001b[32m━━━━━━━━━━━━━━━━━━━━\u001b[0m\u001b[37m\u001b[0m \u001b[1m0s\u001b[0m 6ms/step - loss: 0.0016 - mse: 4.8944e-05 - val_loss: 0.0015 - val_mse: 6.3024e-06\n",
      "Epoch 71/100\n",
      "\u001b[1m12/12\u001b[0m \u001b[32m━━━━━━━━━━━━━━━━━━━━\u001b[0m\u001b[37m\u001b[0m \u001b[1m0s\u001b[0m 5ms/step - loss: 0.0015 - mse: 7.8045e-06 - val_loss: 0.0016 - val_mse: 1.1254e-04\n",
      "Epoch 72/100\n",
      "\u001b[1m12/12\u001b[0m \u001b[32m━━━━━━━━━━━━━━━━━━━━\u001b[0m\u001b[37m\u001b[0m \u001b[1m0s\u001b[0m 6ms/step - loss: 0.0016 - mse: 4.9957e-05 - val_loss: 0.0015 - val_mse: 6.2857e-06\n",
      "Epoch 73/100\n",
      "\u001b[1m12/12\u001b[0m \u001b[32m━━━━━━━━━━━━━━━━━━━━\u001b[0m\u001b[37m\u001b[0m \u001b[1m0s\u001b[0m 6ms/step - loss: 0.0015 - mse: 1.3861e-05 - val_loss: 0.0015 - val_mse: 6.5290e-06\n",
      "Epoch 74/100\n",
      "\u001b[1m12/12\u001b[0m \u001b[32m━━━━━━━━━━━━━━━━━━━━\u001b[0m\u001b[37m\u001b[0m \u001b[1m0s\u001b[0m 5ms/step - loss: 0.0015 - mse: 1.5242e-05 - val_loss: 0.0016 - val_mse: 3.4615e-05\n",
      "Epoch 75/100\n",
      "\u001b[1m12/12\u001b[0m \u001b[32m━━━━━━━━━━━━━━━━━━━━\u001b[0m\u001b[37m\u001b[0m \u001b[1m0s\u001b[0m 6ms/step - loss: 0.0015 - mse: 1.7215e-05 - val_loss: 0.0016 - val_mse: 1.0708e-04\n",
      "Epoch 76/100\n",
      "\u001b[1m12/12\u001b[0m \u001b[32m━━━━━━━━━━━━━━━━━━━━\u001b[0m\u001b[37m\u001b[0m \u001b[1m0s\u001b[0m 6ms/step - loss: 0.0016 - mse: 7.8767e-05 - val_loss: 0.0015 - val_mse: 2.6831e-06\n",
      "Epoch 77/100\n",
      "\u001b[1m12/12\u001b[0m \u001b[32m━━━━━━━━━━━━━━━━━━━━\u001b[0m\u001b[37m\u001b[0m \u001b[1m0s\u001b[0m 5ms/step - loss: 0.0015 - mse: 1.0520e-05 - val_loss: 0.0015 - val_mse: 2.6137e-05\n",
      "Epoch 78/100\n",
      "\u001b[1m12/12\u001b[0m \u001b[32m━━━━━━━━━━━━━━━━━━━━\u001b[0m\u001b[37m\u001b[0m \u001b[1m0s\u001b[0m 7ms/step - loss: 0.0015 - mse: 8.9422e-06 - val_loss: 0.0016 - val_mse: 1.1555e-04\n",
      "Epoch 79/100\n",
      "\u001b[1m12/12\u001b[0m \u001b[32m━━━━━━━━━━━━━━━━━━━━\u001b[0m\u001b[37m\u001b[0m \u001b[1m0s\u001b[0m 5ms/step - loss: 0.0016 - mse: 5.0374e-05 - val_loss: 0.0015 - val_mse: 6.0968e-06\n",
      "Epoch 80/100\n",
      "\u001b[1m12/12\u001b[0m \u001b[32m━━━━━━━━━━━━━━━━━━━━\u001b[0m\u001b[37m\u001b[0m \u001b[1m0s\u001b[0m 5ms/step - loss: 0.0015 - mse: 9.7110e-06 - val_loss: 0.0017 - val_mse: 1.4234e-04\n",
      "Epoch 81/100\n",
      "\u001b[1m12/12\u001b[0m \u001b[32m━━━━━━━━━━━━━━━━━━━━\u001b[0m\u001b[37m\u001b[0m \u001b[1m0s\u001b[0m 5ms/step - loss: 0.0016 - mse: 6.4460e-05 - val_loss: 0.0015 - val_mse: 5.5811e-06\n",
      "Epoch 82/100\n",
      "\u001b[1m12/12\u001b[0m \u001b[32m━━━━━━━━━━━━━━━━━━━━\u001b[0m\u001b[37m\u001b[0m \u001b[1m0s\u001b[0m 5ms/step - loss: 0.0015 - mse: 2.0890e-05 - val_loss: 0.0015 - val_mse: 2.5805e-05\n",
      "Epoch 83/100\n",
      "\u001b[1m12/12\u001b[0m \u001b[32m━━━━━━━━━━━━━━━━━━━━\u001b[0m\u001b[37m\u001b[0m \u001b[1m0s\u001b[0m 5ms/step - loss: 0.0015 - mse: 1.3073e-05 - val_loss: 0.0015 - val_mse: 3.9558e-06\n",
      "Epoch 84/100\n",
      "\u001b[1m12/12\u001b[0m \u001b[32m━━━━━━━━━━━━━━━━━━━━\u001b[0m\u001b[37m\u001b[0m \u001b[1m0s\u001b[0m 6ms/step - loss: 0.0015 - mse: 1.0384e-05 - val_loss: 0.0015 - val_mse: 1.6569e-05\n",
      "Epoch 85/100\n",
      "\u001b[1m12/12\u001b[0m \u001b[32m━━━━━━━━━━━━━━━━━━━━\u001b[0m\u001b[37m\u001b[0m \u001b[1m0s\u001b[0m 5ms/step - loss: 0.0015 - mse: 1.0443e-05 - val_loss: 0.0017 - val_mse: 1.8908e-04\n",
      "Epoch 86/100\n",
      "\u001b[1m12/12\u001b[0m \u001b[32m━━━━━━━━━━━━━━━━━━━━\u001b[0m\u001b[37m\u001b[0m \u001b[1m0s\u001b[0m 5ms/step - loss: 0.0016 - mse: 5.6428e-05 - val_loss: 0.0015 - val_mse: 3.3994e-06\n",
      "Epoch 87/100\n",
      "\u001b[1m12/12\u001b[0m \u001b[32m━━━━━━━━━━━━━━━━━━━━\u001b[0m\u001b[37m\u001b[0m \u001b[1m0s\u001b[0m 5ms/step - loss: 0.0015 - mse: 3.1826e-06 - val_loss: 0.0017 - val_mse: 2.4320e-04\n",
      "Epoch 88/100\n",
      "\u001b[1m12/12\u001b[0m \u001b[32m━━━━━━━━━━━━━━━━━━━━\u001b[0m\u001b[37m\u001b[0m \u001b[1m0s\u001b[0m 5ms/step - loss: 0.0016 - mse: 6.0763e-05 - val_loss: 0.0016 - val_mse: 8.9551e-05\n",
      "Epoch 89/100\n",
      "\u001b[1m12/12\u001b[0m \u001b[32m━━━━━━━━━━━━━━━━━━━━\u001b[0m\u001b[37m\u001b[0m \u001b[1m0s\u001b[0m 6ms/step - loss: 0.0015 - mse: 3.0298e-05 - val_loss: 0.0015 - val_mse: 5.0637e-06\n",
      "Epoch 90/100\n",
      "\u001b[1m12/12\u001b[0m \u001b[32m━━━━━━━━━━━━━━━━━━━━\u001b[0m\u001b[37m\u001b[0m \u001b[1m0s\u001b[0m 4ms/step - loss: 0.0015 - mse: 4.4085e-06 - val_loss: 0.0017 - val_mse: 1.7713e-04\n",
      "Epoch 91/100\n",
      "\u001b[1m12/12\u001b[0m \u001b[32m━━━━━━━━━━━━━━━━━━━━\u001b[0m\u001b[37m\u001b[0m \u001b[1m0s\u001b[0m 5ms/step - loss: 0.0015 - mse: 5.0163e-05 - val_loss: 0.0016 - val_mse: 7.8577e-05\n",
      "Epoch 92/100\n",
      "\u001b[1m12/12\u001b[0m \u001b[32m━━━━━━━━━━━━━━━━━━━━\u001b[0m\u001b[37m\u001b[0m \u001b[1m0s\u001b[0m 5ms/step - loss: 0.0015 - mse: 4.2844e-05 - val_loss: 0.0016 - val_mse: 1.1053e-04\n",
      "Epoch 93/100\n",
      "\u001b[1m12/12\u001b[0m \u001b[32m━━━━━━━━━━━━━━━━━━━━\u001b[0m\u001b[37m\u001b[0m \u001b[1m0s\u001b[0m 5ms/step - loss: 0.0015 - mse: 4.8624e-05 - val_loss: 0.0016 - val_mse: 9.3261e-05\n",
      "Epoch 94/100\n",
      "\u001b[1m12/12\u001b[0m \u001b[32m━━━━━━━━━━━━━━━━━━━━\u001b[0m\u001b[37m\u001b[0m \u001b[1m0s\u001b[0m 5ms/step - loss: 0.0015 - mse: 4.7179e-05 - val_loss: 0.0015 - val_mse: 5.6515e-05\n",
      "Epoch 95/100\n",
      "\u001b[1m12/12\u001b[0m \u001b[32m━━━━━━━━━━━━━━━━━━━━\u001b[0m\u001b[37m\u001b[0m \u001b[1m0s\u001b[0m 5ms/step - loss: 0.0015 - mse: 3.7584e-05 - val_loss: 0.0015 - val_mse: 3.6191e-06\n",
      "Epoch 96/100\n",
      "\u001b[1m12/12\u001b[0m \u001b[32m━━━━━━━━━━━━━━━━━━━━\u001b[0m\u001b[37m\u001b[0m \u001b[1m0s\u001b[0m 6ms/step - loss: 0.0015 - mse: 2.6603e-05 - val_loss: 0.0015 - val_mse: 3.3524e-06\n",
      "Epoch 97/100\n",
      "\u001b[1m12/12\u001b[0m \u001b[32m━━━━━━━━━━━━━━━━━━━━\u001b[0m\u001b[37m\u001b[0m \u001b[1m0s\u001b[0m 5ms/step - loss: 0.0015 - mse: 3.4037e-06 - val_loss: 0.0015 - val_mse: 2.8852e-06\n",
      "Epoch 98/100\n",
      "\u001b[1m12/12\u001b[0m \u001b[32m━━━━━━━━━━━━━━━━━━━━\u001b[0m\u001b[37m\u001b[0m \u001b[1m0s\u001b[0m 5ms/step - loss: 0.0015 - mse: 1.6855e-05 - val_loss: 0.0015 - val_mse: 1.9545e-05\n",
      "Epoch 99/100\n",
      "\u001b[1m12/12\u001b[0m \u001b[32m━━━━━━━━━━━━━━━━━━━━\u001b[0m\u001b[37m\u001b[0m \u001b[1m0s\u001b[0m 5ms/step - loss: 0.0015 - mse: 3.3056e-05 - val_loss: 0.0015 - val_mse: 2.3207e-06\n",
      "Epoch 100/100\n",
      "\u001b[1m12/12\u001b[0m \u001b[32m━━━━━━━━━━━━━━━━━━━━\u001b[0m\u001b[37m\u001b[0m \u001b[1m0s\u001b[0m 6ms/step - loss: 0.0015 - mse: 3.0961e-06 - val_loss: 0.0015 - val_mse: 1.3853e-05\n"
     ]
    }
   ],
   "source": [
    "history = model.fit(X_train_scaled, y_train_scaled, epochs=100, batch_size=32, validation_split=0.1, callbacks=[early_stopping], verbose=1)"
   ]
  },
  {
   "cell_type": "markdown",
   "metadata": {},
   "source": [
    "### 2.9 Save training and validation loss to a text file "
   ]
  },
  {
   "cell_type": "code",
   "execution_count": 47,
   "metadata": {},
   "outputs": [
    {
     "name": "stdout",
     "output_type": "stream",
     "text": [
      "Training and validation loss curves saved to ./training_validation_loss.txt\n"
     ]
    }
   ],
   "source": [
    "with open('training_validation_loss.txt', 'w') as f:\n",
    "    f.write(\"Epoch\\tTraining Loss\\tValidation Loss\\n\")\n",
    "    for epoch, (train_loss, val_loss) in enumerate(zip(history.history['loss'], history.history['val_loss']), 1):\n",
    "        f.write(f\"{epoch}\\t{train_loss:.4f}\\t{val_loss:.4f}\\n\")\n",
    "print(\"Training and validation loss curves saved to ./training_validation_loss.txt\")"
   ]
  },
  {
   "cell_type": "markdown",
   "metadata": {},
   "source": [
    "### 2.10 Plot training and validtion curves"
   ]
  },
  {
   "cell_type": "code",
   "execution_count": 48,
   "metadata": {},
   "outputs": [
    {
     "name": "stdout",
     "output_type": "stream",
     "text": [
      "Plot saved to ./training_validation_loss.png\n"
     ]
    },
    {
     "data": {
      "image/png": "[encoded data removed]",
      "text/plain": [
       "<Figure size 1200x600 with 1 Axes>"
      ]
     },
     "metadata": {},
     "output_type": "display_data"
    }
   ],
   "source": [
    "import matplotlib.pyplot as plt \n",
    "\n",
    "plt.figure(figsize=(12, 6))\n",
    "plt.plot(history.history['loss'], label='Training', color='blue')\n",
    "plt.plot(history.history['val_loss'], label='Validation', color='green')\n",
    "\n",
    "plt.xlabel('Epochs', fontsize=18)\n",
    "plt.ylabel('Loss', fontsize=18)\n",
    "\n",
    "plt.xticks(fontsize=14)\n",
    "plt.yticks(fontsize=14)\n",
    "\n",
    "plt.title('Training and Validation Loss Curves', fontsize=24)\n",
    "plt.legend(fontsize=16)\n",
    "plt.grid(False)\n",
    "\n",
    "plt.savefig('training_validation_loss.png', bbox_inches='tight')\n",
    "print(\"Plot saved to ./training_validation_loss.png\")"
   ]
  },
  {
   "cell_type": "markdown",
   "metadata": {},
   "source": [
    "### 2.10 Save the model"
   ]
  },
  {
   "cell_type": "code",
   "execution_count": 49,
   "metadata": {},
   "outputs": [
    {
     "name": "stdout",
     "output_type": "stream",
     "text": [
      "Model saved to ./slp_model.keras\n"
     ]
    }
   ],
   "source": [
    "model.save('slp_model.keras')\n",
    "print(\"Model saved to ./slp_model.keras\")"
   ]
  },
  {
   "cell_type": "markdown",
   "metadata": {},
   "source": [
    "### 2.11 Predict values on test data "
   ]
  },
  {
   "cell_type": "code",
   "execution_count": 50,
   "metadata": {},
   "outputs": [
    {
     "name": "stdout",
     "output_type": "stream",
     "text": [
      "\u001b[1m4/4\u001b[0m \u001b[32m━━━━━━━━━━━━━━━━━━━━\u001b[0m\u001b[37m\u001b[0m \u001b[1m0s\u001b[0m 9ms/step \n"
     ]
    }
   ],
   "source": [
    "y_pred = model.predict(X_test_scaled).flatten() "
   ]
  },
  {
   "cell_type": "markdown",
   "metadata": {},
   "source": [
    "### 2.12 Inverse scaled values"
   ]
  },
  {
   "cell_type": "code",
   "execution_count": 59,
   "metadata": {},
   "outputs": [],
   "source": [
    "y_pred_scaled_reshaped = y_pred.reshape(-1, 1)\n",
    "y_test_scaled_reshaped = y_test_scaled.reshape(-1, 1)\n",
    "\n",
    "y_pred_inverse = scaler_y.inverse_transform(y_pred_scaled_reshaped).flatten()\n",
    "y_test_inverse = scaler_y.inverse_transform(y_test_scaled_reshaped).flatten() "
   ]
  },
  {
   "cell_type": "markdown",
   "metadata": {},
   "source": [
    "### 2.13 Calculate metrics"
   ]
  },
  {
   "cell_type": "code",
   "execution_count": 60,
   "metadata": {},
   "outputs": [
    {
     "name": "stdout",
     "output_type": "stream",
     "text": [
      "Mean Squared Error (MSE): 16.2898\n",
      "Root Mean Squared Error (RMSE): 4.0361\n",
      "Mean Absolute Error (MAE): 2.8663\n",
      "R^2 Score: 1.0000\n"
     ]
    }
   ],
   "source": [
    "from sklearn.metrics import mean_absolute_error, r2_score\n",
    "\n",
    "mse = mean_squared_error(y_test_inverse, y_pred_inverse)\n",
    "rmse = np.sqrt(mse)\n",
    "mae = mean_absolute_error(y_test_inverse, y_pred_inverse)\n",
    "r2 = r2_score(y_test_inverse, y_pred_inverse)\n",
    "\n",
    "print(f\"Mean Squared Error (MSE): {mse:.4f}\")\n",
    "print(f\"Root Mean Squared Error (RMSE): {rmse:.4f}\")\n",
    "print(f\"Mean Absolute Error (MAE): {mae:.4f}\")\n",
    "print(f\"R^2 Score: {r2:.4f}\")"
   ]
  },
  {
   "cell_type": "markdown",
   "metadata": {},
   "source": [
    "### 2.14 Visualize the results "
   ]
  },
  {
   "cell_type": "code",
   "execution_count": null,
   "metadata": {},
   "outputs": [],
   "source": [
    "import matplotlib.pyplot as plt\n",
    "\n",
    "plt.figure(figsize=(10, 6))\n",
    "plt.scatter(y_test_inverse, y_pred_inverse, color='blue', alpha=0.6)\n",
    "plt.xlabel(\"Actual\", fontsize=18)\n",
    "plt.ylabel(\"Predicted\", fontsize=18)\n",
    "plt.title(\"Enthalpy, eV\", fontsize=22)\n",
    "plt.grid(False)\n",
    "\n",
    "plt.xticks(fontsize=14)\n",
    "plt.yticks(fontsize=14)\n",
    "\n",
    "#-# Add metrics to the plot\n",
    "metrics_text = f\"MSE: {mse:.4f}\\nRMSE: {rmse:.4f}\\nMAE: {mae:.4f}\\n$R^2$: {r2:.4f}\"\n",
    "plt.text(0.05, 0.95, metrics_text, transform=plt.gca().transAxes, fontsize=16, \n",
    "         verticalalignment='top', \n",
    "         bbox=dict(boxstyle=\"round,pad=0.3\", edgecolor='gray', facecolor='lightgreen'))\n",
    "\n",
    "plt.show()\n",
    "\n",
    "#-# Save actual and predicted values to a CSV file\n",
    "results = pd.DataFrame({'Actual': y_test_inverse, 'Predicted': y_pred_inverse})\n",
    "results.to_csv('SLP(Act_vs_Pred).csv', index=False)"
   ]
  }
 ],
 "metadata": {
  "kernelspec": {
   "display_name": "manual",
   "language": "python",
   "name": "python3"
  },
  "language_info": {
   "codemirror_mode": {
    "name": "ipython",
    "version": 3
   },
   "file_extension": ".py",
   "mimetype": "text/x-python",
   "name": "python",
   "nbconvert_exporter": "python",
   "pygments_lexer": "ipython3",
   "version": "3.12.0"
  }
 },
 "nbformat": 4,
 "nbformat_minor": 2
}
